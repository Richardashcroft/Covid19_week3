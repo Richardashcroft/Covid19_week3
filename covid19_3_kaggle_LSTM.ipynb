{
  "nbformat": 4,
  "nbformat_minor": 0,
  "metadata": {
    "colab": {
      "name": "covid19_3_kaggle_LSTM.ipynb",
      "provenance": [],
      "collapsed_sections": [
        "gP8QwZL7C_ln"
      ],
      "toc_visible": true
    },
    "kernelspec": {
      "name": "python3",
      "display_name": "Python 3"
    },
    "accelerator": "GPU"
  },
  "cells": [
    {
      "cell_type": "code",
      "metadata": {
        "id": "yc1OuVvvUycz",
        "colab_type": "code",
        "outputId": "5547a0a5-aaa5-4512-d78e-8ec227e72a7b",
        "colab": {
          "base_uri": "https://localhost:8080/",
          "height": 34
        }
      },
      "source": [
        "%cd '/content/drive/My Drive/Colab Notebooks/kaggle'"
      ],
      "execution_count": 0,
      "outputs": [
        {
          "output_type": "stream",
          "text": [
            "/content/drive/My Drive/Colab Notebooks/kaggle\n"
          ],
          "name": "stdout"
        }
      ]
    },
    {
      "cell_type": "code",
      "metadata": {
        "id": "hmRHJKKOVHD-",
        "colab_type": "code",
        "outputId": "de235ef6-bb58-4433-c4f2-8dd6d82e19a1",
        "colab": {
          "base_uri": "https://localhost:8080/",
          "height": 1000
        }
      },
      "source": [
        "!pip install tensorflow==2.1.0"
      ],
      "execution_count": 0,
      "outputs": [
        {
          "output_type": "stream",
          "text": [
            "Collecting tensorflow==2.1.0\n",
            "\u001b[?25l  Downloading https://files.pythonhosted.org/packages/85/d4/c0cd1057b331bc38b65478302114194bd8e1b9c2bbc06e300935c0e93d90/tensorflow-2.1.0-cp36-cp36m-manylinux2010_x86_64.whl (421.8MB)\n",
            "\u001b[K     |████████████████████████████████| 421.8MB 38kB/s \n",
            "\u001b[?25hRequirement already satisfied: absl-py>=0.7.0 in /usr/local/lib/python3.6/dist-packages (from tensorflow==2.1.0) (0.9.0)\n",
            "Requirement already satisfied: keras-applications>=1.0.8 in /usr/local/lib/python3.6/dist-packages (from tensorflow==2.1.0) (1.0.8)\n",
            "Requirement already satisfied: opt-einsum>=2.3.2 in /usr/local/lib/python3.6/dist-packages (from tensorflow==2.1.0) (3.2.0)\n",
            "Collecting tensorboard<2.2.0,>=2.1.0\n",
            "\u001b[?25l  Downloading https://files.pythonhosted.org/packages/d9/41/bbf49b61370e4f4d245d4c6051dfb6db80cec672605c91b1652ac8cc3d38/tensorboard-2.1.1-py3-none-any.whl (3.8MB)\n",
            "\u001b[K     |████████████████████████████████| 3.9MB 54.5MB/s \n",
            "\u001b[?25hRequirement already satisfied: wheel>=0.26; python_version >= \"3\" in /usr/local/lib/python3.6/dist-packages (from tensorflow==2.1.0) (0.34.2)\n",
            "Requirement already satisfied: scipy==1.4.1; python_version >= \"3\" in /usr/local/lib/python3.6/dist-packages (from tensorflow==2.1.0) (1.4.1)\n",
            "Requirement already satisfied: astor>=0.6.0 in /usr/local/lib/python3.6/dist-packages (from tensorflow==2.1.0) (0.8.1)\n",
            "Requirement already satisfied: grpcio>=1.8.6 in /usr/local/lib/python3.6/dist-packages (from tensorflow==2.1.0) (1.27.2)\n",
            "Requirement already satisfied: keras-preprocessing>=1.1.0 in /usr/local/lib/python3.6/dist-packages (from tensorflow==2.1.0) (1.1.0)\n",
            "Requirement already satisfied: google-pasta>=0.1.6 in /usr/local/lib/python3.6/dist-packages (from tensorflow==2.1.0) (0.2.0)\n",
            "Requirement already satisfied: protobuf>=3.8.0 in /usr/local/lib/python3.6/dist-packages (from tensorflow==2.1.0) (3.10.0)\n",
            "Requirement already satisfied: wrapt>=1.11.1 in /usr/local/lib/python3.6/dist-packages (from tensorflow==2.1.0) (1.12.1)\n",
            "Requirement already satisfied: six>=1.12.0 in /usr/local/lib/python3.6/dist-packages (from tensorflow==2.1.0) (1.12.0)\n",
            "Requirement already satisfied: termcolor>=1.1.0 in /usr/local/lib/python3.6/dist-packages (from tensorflow==2.1.0) (1.1.0)\n",
            "Requirement already satisfied: numpy<2.0,>=1.16.0 in /usr/local/lib/python3.6/dist-packages (from tensorflow==2.1.0) (1.18.2)\n",
            "Collecting gast==0.2.2\n",
            "  Downloading https://files.pythonhosted.org/packages/4e/35/11749bf99b2d4e3cceb4d55ca22590b0d7c2c62b9de38ac4a4a7f4687421/gast-0.2.2.tar.gz\n",
            "Collecting tensorflow-estimator<2.2.0,>=2.1.0rc0\n",
            "\u001b[?25l  Downloading https://files.pythonhosted.org/packages/18/90/b77c328a1304437ab1310b463e533fa7689f4bfc41549593056d812fab8e/tensorflow_estimator-2.1.0-py2.py3-none-any.whl (448kB)\n",
            "\u001b[K     |████████████████████████████████| 450kB 51.3MB/s \n",
            "\u001b[?25hRequirement already satisfied: h5py in /usr/local/lib/python3.6/dist-packages (from keras-applications>=1.0.8->tensorflow==2.1.0) (2.10.0)\n",
            "Requirement already satisfied: google-auth-oauthlib<0.5,>=0.4.1 in /usr/local/lib/python3.6/dist-packages (from tensorboard<2.2.0,>=2.1.0->tensorflow==2.1.0) (0.4.1)\n",
            "Requirement already satisfied: werkzeug>=0.11.15 in /usr/local/lib/python3.6/dist-packages (from tensorboard<2.2.0,>=2.1.0->tensorflow==2.1.0) (1.0.1)\n",
            "Requirement already satisfied: markdown>=2.6.8 in /usr/local/lib/python3.6/dist-packages (from tensorboard<2.2.0,>=2.1.0->tensorflow==2.1.0) (3.2.1)\n",
            "Requirement already satisfied: google-auth<2,>=1.6.3 in /usr/local/lib/python3.6/dist-packages (from tensorboard<2.2.0,>=2.1.0->tensorflow==2.1.0) (1.7.2)\n",
            "Requirement already satisfied: setuptools>=41.0.0 in /usr/local/lib/python3.6/dist-packages (from tensorboard<2.2.0,>=2.1.0->tensorflow==2.1.0) (46.1.3)\n",
            "Requirement already satisfied: requests<3,>=2.21.0 in /usr/local/lib/python3.6/dist-packages (from tensorboard<2.2.0,>=2.1.0->tensorflow==2.1.0) (2.21.0)\n",
            "Requirement already satisfied: requests-oauthlib>=0.7.0 in /usr/local/lib/python3.6/dist-packages (from google-auth-oauthlib<0.5,>=0.4.1->tensorboard<2.2.0,>=2.1.0->tensorflow==2.1.0) (1.3.0)\n",
            "Requirement already satisfied: cachetools<3.2,>=2.0.0 in /usr/local/lib/python3.6/dist-packages (from google-auth<2,>=1.6.3->tensorboard<2.2.0,>=2.1.0->tensorflow==2.1.0) (3.1.1)\n",
            "Requirement already satisfied: pyasn1-modules>=0.2.1 in /usr/local/lib/python3.6/dist-packages (from google-auth<2,>=1.6.3->tensorboard<2.2.0,>=2.1.0->tensorflow==2.1.0) (0.2.8)\n",
            "Requirement already satisfied: rsa<4.1,>=3.1.4 in /usr/local/lib/python3.6/dist-packages (from google-auth<2,>=1.6.3->tensorboard<2.2.0,>=2.1.0->tensorflow==2.1.0) (4.0)\n",
            "Requirement already satisfied: certifi>=2017.4.17 in /usr/local/lib/python3.6/dist-packages (from requests<3,>=2.21.0->tensorboard<2.2.0,>=2.1.0->tensorflow==2.1.0) (2019.11.28)\n",
            "Requirement already satisfied: urllib3<1.25,>=1.21.1 in /usr/local/lib/python3.6/dist-packages (from requests<3,>=2.21.0->tensorboard<2.2.0,>=2.1.0->tensorflow==2.1.0) (1.24.3)\n",
            "Requirement already satisfied: chardet<3.1.0,>=3.0.2 in /usr/local/lib/python3.6/dist-packages (from requests<3,>=2.21.0->tensorboard<2.2.0,>=2.1.0->tensorflow==2.1.0) (3.0.4)\n",
            "Requirement already satisfied: idna<2.9,>=2.5 in /usr/local/lib/python3.6/dist-packages (from requests<3,>=2.21.0->tensorboard<2.2.0,>=2.1.0->tensorflow==2.1.0) (2.8)\n",
            "Requirement already satisfied: oauthlib>=3.0.0 in /usr/local/lib/python3.6/dist-packages (from requests-oauthlib>=0.7.0->google-auth-oauthlib<0.5,>=0.4.1->tensorboard<2.2.0,>=2.1.0->tensorflow==2.1.0) (3.1.0)\n",
            "Requirement already satisfied: pyasn1<0.5.0,>=0.4.6 in /usr/local/lib/python3.6/dist-packages (from pyasn1-modules>=0.2.1->google-auth<2,>=1.6.3->tensorboard<2.2.0,>=2.1.0->tensorflow==2.1.0) (0.4.8)\n",
            "Building wheels for collected packages: gast\n",
            "  Building wheel for gast (setup.py) ... \u001b[?25l\u001b[?25hdone\n",
            "  Created wheel for gast: filename=gast-0.2.2-cp36-none-any.whl size=7540 sha256=50bd51bd8768f57d0bb874b74a0b5ab4c7619b5003799ae1dffc8fd151eac3be\n",
            "  Stored in directory: /root/.cache/pip/wheels/5c/2e/7e/a1d4d4fcebe6c381f378ce7743a3ced3699feb89bcfbdadadd\n",
            "Successfully built gast\n",
            "Installing collected packages: tensorboard, gast, tensorflow-estimator, tensorflow\n",
            "  Found existing installation: tensorboard 2.2.0\n",
            "    Uninstalling tensorboard-2.2.0:\n",
            "      Successfully uninstalled tensorboard-2.2.0\n",
            "  Found existing installation: gast 0.3.3\n",
            "    Uninstalling gast-0.3.3:\n",
            "      Successfully uninstalled gast-0.3.3\n",
            "  Found existing installation: tensorflow-estimator 2.2.0rc0\n",
            "    Uninstalling tensorflow-estimator-2.2.0rc0:\n",
            "      Successfully uninstalled tensorflow-estimator-2.2.0rc0\n",
            "  Found existing installation: tensorflow 2.2.0rc2\n",
            "    Uninstalling tensorflow-2.2.0rc2:\n",
            "      Successfully uninstalled tensorflow-2.2.0rc2\n",
            "Successfully installed gast-0.2.2 tensorboard-2.1.1 tensorflow-2.1.0 tensorflow-estimator-2.1.0\n"
          ],
          "name": "stdout"
        }
      ]
    },
    {
      "cell_type": "code",
      "metadata": {
        "id": "DpiDZMbpFRZX",
        "colab_type": "code",
        "outputId": "db9aed48-9250-4bca-92c9-9b2185a81121",
        "colab": {
          "base_uri": "https://localhost:8080/",
          "height": 165
        }
      },
      "source": [
        "#tensorflow.__version__"
      ],
      "execution_count": 0,
      "outputs": [
        {
          "output_type": "error",
          "ename": "NameError",
          "evalue": "ignored",
          "traceback": [
            "\u001b[0;31m---------------------------------------------------------------------------\u001b[0m",
            "\u001b[0;31mNameError\u001b[0m                                 Traceback (most recent call last)",
            "\u001b[0;32m<ipython-input-1-65996cac02ec>\u001b[0m in \u001b[0;36m<module>\u001b[0;34m()\u001b[0m\n\u001b[0;32m----> 1\u001b[0;31m \u001b[0mtf\u001b[0m\u001b[0;34m.\u001b[0m\u001b[0m__version__\u001b[0m\u001b[0;34m\u001b[0m\u001b[0;34m\u001b[0m\u001b[0m\n\u001b[0m",
            "\u001b[0;31mNameError\u001b[0m: name 'tf' is not defined"
          ]
        }
      ]
    },
    {
      "cell_type": "code",
      "metadata": {
        "id": "2pls-y20VSst",
        "colab_type": "code",
        "outputId": "07785513-5676-43ae-f9c9-c3109a1847fb",
        "colab": {
          "base_uri": "https://localhost:8080/",
          "height": 289
        }
      },
      "source": [
        "!pip install keras==2.3.1"
      ],
      "execution_count": 0,
      "outputs": [
        {
          "output_type": "stream",
          "text": [
            "Collecting keras==2.3.1\n",
            "\u001b[?25l  Downloading https://files.pythonhosted.org/packages/ad/fd/6bfe87920d7f4fd475acd28500a42482b6b84479832bdc0fe9e589a60ceb/Keras-2.3.1-py2.py3-none-any.whl (377kB)\n",
            "\r\u001b[K     |▉                               | 10kB 25.9MB/s eta 0:00:01\r\u001b[K     |█▊                              | 20kB 3.1MB/s eta 0:00:01\r\u001b[K     |██▋                             | 30kB 4.1MB/s eta 0:00:01\r\u001b[K     |███▌                            | 40kB 3.0MB/s eta 0:00:01\r\u001b[K     |████▍                           | 51kB 3.7MB/s eta 0:00:01\r\u001b[K     |█████▏                          | 61kB 4.4MB/s eta 0:00:01\r\u001b[K     |██████                          | 71kB 4.9MB/s eta 0:00:01\r\u001b[K     |███████                         | 81kB 5.5MB/s eta 0:00:01\r\u001b[K     |███████▉                        | 92kB 6.1MB/s eta 0:00:01\r\u001b[K     |████████▊                       | 102kB 4.9MB/s eta 0:00:01\r\u001b[K     |█████████▌                      | 112kB 4.9MB/s eta 0:00:01\r\u001b[K     |██████████▍                     | 122kB 4.9MB/s eta 0:00:01\r\u001b[K     |███████████▎                    | 133kB 4.9MB/s eta 0:00:01\r\u001b[K     |████████████▏                   | 143kB 4.9MB/s eta 0:00:01\r\u001b[K     |█████████████                   | 153kB 4.9MB/s eta 0:00:01\r\u001b[K     |█████████████▉                  | 163kB 4.9MB/s eta 0:00:01\r\u001b[K     |██████████████▊                 | 174kB 4.9MB/s eta 0:00:01\r\u001b[K     |███████████████▋                | 184kB 4.9MB/s eta 0:00:01\r\u001b[K     |████████████████▌               | 194kB 4.9MB/s eta 0:00:01\r\u001b[K     |█████████████████▍              | 204kB 4.9MB/s eta 0:00:01\r\u001b[K     |██████████████████▏             | 215kB 4.9MB/s eta 0:00:01\r\u001b[K     |███████████████████             | 225kB 4.9MB/s eta 0:00:01\r\u001b[K     |████████████████████            | 235kB 4.9MB/s eta 0:00:01\r\u001b[K     |████████████████████▉           | 245kB 4.9MB/s eta 0:00:01\r\u001b[K     |█████████████████████▊          | 256kB 4.9MB/s eta 0:00:01\r\u001b[K     |██████████████████████▌         | 266kB 4.9MB/s eta 0:00:01\r\u001b[K     |███████████████████████▍        | 276kB 4.9MB/s eta 0:00:01\r\u001b[K     |████████████████████████▎       | 286kB 4.9MB/s eta 0:00:01\r\u001b[K     |█████████████████████████▏      | 296kB 4.9MB/s eta 0:00:01\r\u001b[K     |██████████████████████████      | 307kB 4.9MB/s eta 0:00:01\r\u001b[K     |██████████████████████████▉     | 317kB 4.9MB/s eta 0:00:01\r\u001b[K     |███████████████████████████▊    | 327kB 4.9MB/s eta 0:00:01\r\u001b[K     |████████████████████████████▋   | 337kB 4.9MB/s eta 0:00:01\r\u001b[K     |█████████████████████████████▌  | 348kB 4.9MB/s eta 0:00:01\r\u001b[K     |██████████████████████████████▍ | 358kB 4.9MB/s eta 0:00:01\r\u001b[K     |███████████████████████████████▏| 368kB 4.9MB/s eta 0:00:01\r\u001b[K     |████████████████████████████████| 378kB 4.9MB/s \n",
            "\u001b[?25hRequirement already satisfied: numpy>=1.9.1 in /usr/local/lib/python3.6/dist-packages (from keras==2.3.1) (1.18.2)\n",
            "Requirement already satisfied: h5py in /usr/local/lib/python3.6/dist-packages (from keras==2.3.1) (2.10.0)\n",
            "Requirement already satisfied: keras-applications>=1.0.6 in /usr/local/lib/python3.6/dist-packages (from keras==2.3.1) (1.0.8)\n",
            "Requirement already satisfied: six>=1.9.0 in /usr/local/lib/python3.6/dist-packages (from keras==2.3.1) (1.12.0)\n",
            "Requirement already satisfied: pyyaml in /usr/local/lib/python3.6/dist-packages (from keras==2.3.1) (3.13)\n",
            "Requirement already satisfied: scipy>=0.14 in /usr/local/lib/python3.6/dist-packages (from keras==2.3.1) (1.4.1)\n",
            "Requirement already satisfied: keras-preprocessing>=1.0.5 in /usr/local/lib/python3.6/dist-packages (from keras==2.3.1) (1.1.0)\n",
            "Installing collected packages: keras\n",
            "  Found existing installation: Keras 2.2.5\n",
            "    Uninstalling Keras-2.2.5:\n",
            "      Successfully uninstalled Keras-2.2.5\n",
            "Successfully installed keras-2.3.1\n"
          ],
          "name": "stdout"
        }
      ]
    },
    {
      "cell_type": "code",
      "metadata": {
        "id": "P3GMnj73VViC",
        "colab_type": "code",
        "outputId": "a9c094e4-b06c-47f5-f001-13c556d05dc3",
        "colab": {
          "base_uri": "https://localhost:8080/",
          "height": 50
        }
      },
      "source": [
        "%cd '/content/drive/My Drive/Colab Notebooks/kaggle/'\n",
        "!mkdir -p ~/.kaggle\n",
        "!cp kaggle.json ~/.kaggle/\n",
        "!ls ~/.kaggle\n",
        "!chmod 600 /root/.kaggle/kaggle.json"
      ],
      "execution_count": 0,
      "outputs": [
        {
          "output_type": "stream",
          "text": [
            "/content/drive/My Drive/Colab Notebooks/kaggle\n",
            "kaggle.json\n"
          ],
          "name": "stdout"
        }
      ]
    },
    {
      "cell_type": "code",
      "metadata": {
        "id": "kbKpY1qsVc0X",
        "colab_type": "code",
        "outputId": "1b9f7330-6941-4df5-93e3-f4dae721b043",
        "colab": {
          "base_uri": "https://localhost:8080/",
          "height": 558
        }
      },
      "source": [
        "!pip uninstall -y kaggle\n",
        "!pip install --upgrade pip\n",
        "!pip install kaggle==1.5.6\n",
        "!kaggle -v"
      ],
      "execution_count": 0,
      "outputs": [
        {
          "output_type": "stream",
          "text": [
            "Uninstalling kaggle-1.5.6:\n",
            "  Successfully uninstalled kaggle-1.5.6\n",
            "Collecting pip\n",
            "\u001b[?25l  Downloading https://files.pythonhosted.org/packages/54/0c/d01aa759fdc501a58f431eb594a17495f15b88da142ce14b5845662c13f3/pip-20.0.2-py2.py3-none-any.whl (1.4MB)\n",
            "\u001b[K     |████████████████████████████████| 1.4MB 4.8MB/s \n",
            "\u001b[?25hInstalling collected packages: pip\n",
            "  Found existing installation: pip 19.3.1\n",
            "    Uninstalling pip-19.3.1:\n",
            "      Successfully uninstalled pip-19.3.1\n",
            "Successfully installed pip-20.0.2\n",
            "Collecting kaggle==1.5.6\n",
            "  Downloading kaggle-1.5.6.tar.gz (58 kB)\n",
            "\u001b[K     |████████████████████████████████| 58 kB 2.6 MB/s \n",
            "\u001b[?25hRequirement already satisfied: urllib3<1.25,>=1.21.1 in /usr/local/lib/python3.6/dist-packages (from kaggle==1.5.6) (1.24.3)\n",
            "Requirement already satisfied: six>=1.10 in /usr/local/lib/python3.6/dist-packages (from kaggle==1.5.6) (1.12.0)\n",
            "Requirement already satisfied: certifi in /usr/local/lib/python3.6/dist-packages (from kaggle==1.5.6) (2019.11.28)\n",
            "Requirement already satisfied: python-dateutil in /usr/local/lib/python3.6/dist-packages (from kaggle==1.5.6) (2.8.1)\n",
            "Requirement already satisfied: requests in /usr/local/lib/python3.6/dist-packages (from kaggle==1.5.6) (2.21.0)\n",
            "Requirement already satisfied: tqdm in /usr/local/lib/python3.6/dist-packages (from kaggle==1.5.6) (4.38.0)\n",
            "Requirement already satisfied: python-slugify in /usr/local/lib/python3.6/dist-packages (from kaggle==1.5.6) (4.0.0)\n",
            "Requirement already satisfied: chardet<3.1.0,>=3.0.2 in /usr/local/lib/python3.6/dist-packages (from requests->kaggle==1.5.6) (3.0.4)\n",
            "Requirement already satisfied: idna<2.9,>=2.5 in /usr/local/lib/python3.6/dist-packages (from requests->kaggle==1.5.6) (2.8)\n",
            "Requirement already satisfied: text-unidecode>=1.3 in /usr/local/lib/python3.6/dist-packages (from python-slugify->kaggle==1.5.6) (1.3)\n",
            "Building wheels for collected packages: kaggle\n",
            "  Building wheel for kaggle (setup.py) ... \u001b[?25l\u001b[?25hdone\n",
            "  Created wheel for kaggle: filename=kaggle-1.5.6-py3-none-any.whl size=72859 sha256=3910458253fe3848727e5f6f827d2a30b9aba2b0ae52f72048c16223e98b66e5\n",
            "  Stored in directory: /root/.cache/pip/wheels/01/3e/ff/77407ebac3ef71a79b9166a8382aecf88415a0bcbe3c095a01\n",
            "Successfully built kaggle\n",
            "Installing collected packages: kaggle\n",
            "Successfully installed kaggle-1.5.6\n",
            "Kaggle API 1.5.6\n"
          ],
          "name": "stdout"
        }
      ]
    },
    {
      "cell_type": "code",
      "metadata": {
        "id": "trQmqiW7ViLp",
        "colab_type": "code",
        "outputId": "a927ce1f-19d9-48d0-92db-cc1127b9a7bd",
        "colab": {
          "base_uri": "https://localhost:8080/",
          "height": 84
        }
      },
      "source": [
        "%cd '/content/drive/My Drive/Colab Notebooks/kaggle/covid19_3'\n",
        "!kaggle competitions download -c covid19-global-forecasting-week-3"
      ],
      "execution_count": 0,
      "outputs": [
        {
          "output_type": "stream",
          "text": [
            "/content/drive/My Drive/Colab Notebooks/kaggle/covid19_3\n",
            "Downloading covid19-global-forecasting-week-3.zip to /content/drive/My Drive/Colab Notebooks/kaggle/covid19_3\n",
            "  0% 0.00/236k [00:00<?, ?B/s]\n",
            "100% 236k/236k [00:00<00:00, 25.1MB/s]\n"
          ],
          "name": "stdout"
        }
      ]
    },
    {
      "cell_type": "code",
      "metadata": {
        "id": "OHygBr4xV6VU",
        "colab_type": "code",
        "outputId": "aa9d9b8f-9393-4457-9d21-3e1b3a70b66e",
        "colab": {
          "base_uri": "https://localhost:8080/",
          "height": 84
        }
      },
      "source": [
        "!unzip '/content/drive/My Drive/Colab Notebooks/kaggle/covid19_3/covid19-global-forecasting-week-3.zip'"
      ],
      "execution_count": 0,
      "outputs": [
        {
          "output_type": "stream",
          "text": [
            "Archive:  /content/drive/My Drive/Colab Notebooks/kaggle/covid19_3/covid19-global-forecasting-week-3.zip\n",
            "  inflating: submission.csv          \n",
            "  inflating: test.csv                \n",
            "  inflating: train.csv               \n"
          ],
          "name": "stdout"
        }
      ]
    },
    {
      "cell_type": "code",
      "metadata": {
        "id": "8xuRzKDlXa0e",
        "colab_type": "code",
        "colab": {}
      },
      "source": [
        "#!pip install geopandas"
      ],
      "execution_count": 0,
      "outputs": []
    },
    {
      "cell_type": "code",
      "metadata": {
        "id": "xlsfJgETWCK9",
        "colab_type": "code",
        "outputId": "46ad2a36-88fa-4ab7-db7c-df0b48f6844f",
        "colab": {
          "base_uri": "https://localhost:8080/",
          "height": 205
        }
      },
      "source": [
        "import numpy as np\n",
        "import pandas as pd\n",
        "import os\n",
        "import time\n",
        "import multiprocessing\n",
        "import seaborn as sns\n",
        "import matplotlib.pyplot as plt\n",
        "import plotly.graph_objects as go\n",
        "\n",
        "import tensorflow as tf\n",
        "import keras\n",
        "import keras.backend as K\n",
        "\n",
        "from pathlib import Path\n",
        "from tqdm import tqdm\n",
        "from datetime import datetime,timedelta\n",
        "\n",
        "from keras.models import Sequential\n",
        "from keras.layers import Dense, LSTM, RNN, Dropout, Flatten\n",
        "from keras.callbacks import EarlyStopping, ModelCheckpoint,ReduceLROnPlateau\n",
        "from keras import optimizers\n",
        "from sklearn import preprocessing\n",
        "from sklearn.preprocessing import StandardScaler, MinMaxScaler\n",
        "\n",
        "#import geopandas as gpd\n",
        "#from shapely.geometry import Point\n",
        "#from sklearn.utils import shuffle\n",
        "\n",
        "print(tf.__version__,keras.__version__)\n",
        "for dirname, _, filenames in os.walk('/content/drive/My Drive/Colab Notebooks/kaggle/covid19_3/'):\n",
        "    for filename in filenames:\n",
        "        print(os.path.join(dirname, filename))\n",
        "\n",
        "mem_bytes = os.sysconf('SC_PAGE_SIZE') * os.sysconf('SC_PHYS_PAGES')  # e.g. 4015976448\n",
        "mem_gib = mem_bytes/(1024.**3)  # e.g. 3.74\n",
        "print(\"RAM: %f GB\" % mem_gib)\n",
        "print(\"CORES: %d\" % multiprocessing.cpu_count())"
      ],
      "execution_count": 0,
      "outputs": [
        {
          "output_type": "stream",
          "text": [
            "/usr/local/lib/python3.6/dist-packages/statsmodels/tools/_testing.py:19: FutureWarning: pandas.util.testing is deprecated. Use the functions in the public API at pandas.testing instead.\n",
            "  import pandas.util.testing as tm\n",
            "Using TensorFlow backend.\n"
          ],
          "name": "stderr"
        },
        {
          "output_type": "stream",
          "text": [
            "2.1.0 2.3.1\n",
            "/content/drive/My Drive/Colab Notebooks/kaggle/covid19_3/covid19-global-forecasting-week-3.zip\n",
            "/content/drive/My Drive/Colab Notebooks/kaggle/covid19_3/submission.csv\n",
            "/content/drive/My Drive/Colab Notebooks/kaggle/covid19_3/test.csv\n",
            "/content/drive/My Drive/Colab Notebooks/kaggle/covid19_3/train.csv\n",
            "RAM: 12.715855 GB\n",
            "CORES: 2\n"
          ],
          "name": "stdout"
        }
      ]
    },
    {
      "cell_type": "code",
      "metadata": {
        "id": "VZTDvzvQFjr4",
        "colab_type": "code",
        "outputId": "fbb031a6-6761-49ef-ded8-4717bd2e5437",
        "colab": {
          "base_uri": "https://localhost:8080/",
          "height": 34
        }
      },
      "source": [
        "%cd '/content/drive/My Drive/Colab Notebooks/kaggle/covid19_3/'"
      ],
      "execution_count": 0,
      "outputs": [
        {
          "output_type": "stream",
          "text": [
            "/content/drive/My Drive/Colab Notebooks/kaggle/covid19\n"
          ],
          "name": "stdout"
        }
      ]
    },
    {
      "cell_type": "code",
      "metadata": {
        "id": "SH-uhS5PXS48",
        "colab_type": "code",
        "outputId": "8c09967c-28d1-4290-a031-1373df1fe5ec",
        "colab": {
          "base_uri": "https://localhost:8080/",
          "height": 195
        }
      },
      "source": [
        "train = pd.read_csv(\"/content/drive/My Drive/Colab Notebooks/kaggle/covid19_3/train.csv\")\n",
        "test = pd.read_csv(\"/content/drive/My Drive/Colab Notebooks/kaggle/covid19_3/test.csv\")\n",
        "train.tail()"
      ],
      "execution_count": 0,
      "outputs": [
        {
          "output_type": "execute_result",
          "data": {
            "text/html": [
              "<div>\n",
              "<style scoped>\n",
              "    .dataframe tbody tr th:only-of-type {\n",
              "        vertical-align: middle;\n",
              "    }\n",
              "\n",
              "    .dataframe tbody tr th {\n",
              "        vertical-align: top;\n",
              "    }\n",
              "\n",
              "    .dataframe thead th {\n",
              "        text-align: right;\n",
              "    }\n",
              "</style>\n",
              "<table border=\"1\" class=\"dataframe\">\n",
              "  <thead>\n",
              "    <tr style=\"text-align: right;\">\n",
              "      <th></th>\n",
              "      <th>Id</th>\n",
              "      <th>Province_State</th>\n",
              "      <th>Country_Region</th>\n",
              "      <th>Date</th>\n",
              "      <th>ConfirmedCases</th>\n",
              "      <th>Fatalities</th>\n",
              "    </tr>\n",
              "  </thead>\n",
              "  <tbody>\n",
              "    <tr>\n",
              "      <th>23251</th>\n",
              "      <td>32707</td>\n",
              "      <td>NaN</td>\n",
              "      <td>Zimbabwe</td>\n",
              "      <td>2020-04-02</td>\n",
              "      <td>9.0</td>\n",
              "      <td>1.0</td>\n",
              "    </tr>\n",
              "    <tr>\n",
              "      <th>23252</th>\n",
              "      <td>32708</td>\n",
              "      <td>NaN</td>\n",
              "      <td>Zimbabwe</td>\n",
              "      <td>2020-04-03</td>\n",
              "      <td>9.0</td>\n",
              "      <td>1.0</td>\n",
              "    </tr>\n",
              "    <tr>\n",
              "      <th>23253</th>\n",
              "      <td>32709</td>\n",
              "      <td>NaN</td>\n",
              "      <td>Zimbabwe</td>\n",
              "      <td>2020-04-04</td>\n",
              "      <td>9.0</td>\n",
              "      <td>1.0</td>\n",
              "    </tr>\n",
              "    <tr>\n",
              "      <th>23254</th>\n",
              "      <td>32710</td>\n",
              "      <td>NaN</td>\n",
              "      <td>Zimbabwe</td>\n",
              "      <td>2020-04-05</td>\n",
              "      <td>9.0</td>\n",
              "      <td>1.0</td>\n",
              "    </tr>\n",
              "    <tr>\n",
              "      <th>23255</th>\n",
              "      <td>32711</td>\n",
              "      <td>NaN</td>\n",
              "      <td>Zimbabwe</td>\n",
              "      <td>2020-04-06</td>\n",
              "      <td>10.0</td>\n",
              "      <td>1.0</td>\n",
              "    </tr>\n",
              "  </tbody>\n",
              "</table>\n",
              "</div>"
            ],
            "text/plain": [
              "          Id Province_State  ... ConfirmedCases Fatalities\n",
              "23251  32707            NaN  ...            9.0        1.0\n",
              "23252  32708            NaN  ...            9.0        1.0\n",
              "23253  32709            NaN  ...            9.0        1.0\n",
              "23254  32710            NaN  ...            9.0        1.0\n",
              "23255  32711            NaN  ...           10.0        1.0\n",
              "\n",
              "[5 rows x 6 columns]"
            ]
          },
          "metadata": {
            "tags": []
          },
          "execution_count": 9
        }
      ]
    },
    {
      "cell_type": "code",
      "metadata": {
        "id": "NszSQTHCfguD",
        "colab_type": "code",
        "outputId": "b6b79eb8-dfbe-45fd-d7f6-e16756cd1b73",
        "colab": {
          "base_uri": "https://localhost:8080/",
          "height": 195
        }
      },
      "source": [
        "#train.head()\n",
        "test.tail()"
      ],
      "execution_count": 0,
      "outputs": [
        {
          "output_type": "execute_result",
          "data": {
            "text/html": [
              "<div>\n",
              "<style scoped>\n",
              "    .dataframe tbody tr th:only-of-type {\n",
              "        vertical-align: middle;\n",
              "    }\n",
              "\n",
              "    .dataframe tbody tr th {\n",
              "        vertical-align: top;\n",
              "    }\n",
              "\n",
              "    .dataframe thead th {\n",
              "        text-align: right;\n",
              "    }\n",
              "</style>\n",
              "<table border=\"1\" class=\"dataframe\">\n",
              "  <thead>\n",
              "    <tr style=\"text-align: right;\">\n",
              "      <th></th>\n",
              "      <th>ForecastId</th>\n",
              "      <th>Province_State</th>\n",
              "      <th>Country_Region</th>\n",
              "      <th>Date</th>\n",
              "    </tr>\n",
              "  </thead>\n",
              "  <tbody>\n",
              "    <tr>\n",
              "      <th>13153</th>\n",
              "      <td>13154</td>\n",
              "      <td>NaN</td>\n",
              "      <td>Zimbabwe</td>\n",
              "      <td>2020-05-03</td>\n",
              "    </tr>\n",
              "    <tr>\n",
              "      <th>13154</th>\n",
              "      <td>13155</td>\n",
              "      <td>NaN</td>\n",
              "      <td>Zimbabwe</td>\n",
              "      <td>2020-05-04</td>\n",
              "    </tr>\n",
              "    <tr>\n",
              "      <th>13155</th>\n",
              "      <td>13156</td>\n",
              "      <td>NaN</td>\n",
              "      <td>Zimbabwe</td>\n",
              "      <td>2020-05-05</td>\n",
              "    </tr>\n",
              "    <tr>\n",
              "      <th>13156</th>\n",
              "      <td>13157</td>\n",
              "      <td>NaN</td>\n",
              "      <td>Zimbabwe</td>\n",
              "      <td>2020-05-06</td>\n",
              "    </tr>\n",
              "    <tr>\n",
              "      <th>13157</th>\n",
              "      <td>13158</td>\n",
              "      <td>NaN</td>\n",
              "      <td>Zimbabwe</td>\n",
              "      <td>2020-05-07</td>\n",
              "    </tr>\n",
              "  </tbody>\n",
              "</table>\n",
              "</div>"
            ],
            "text/plain": [
              "       ForecastId Province_State Country_Region        Date\n",
              "13153       13154            NaN       Zimbabwe  2020-05-03\n",
              "13154       13155            NaN       Zimbabwe  2020-05-04\n",
              "13155       13156            NaN       Zimbabwe  2020-05-05\n",
              "13156       13157            NaN       Zimbabwe  2020-05-06\n",
              "13157       13158            NaN       Zimbabwe  2020-05-07"
            ]
          },
          "metadata": {
            "tags": []
          },
          "execution_count": 11
        }
      ]
    },
    {
      "cell_type": "code",
      "metadata": {
        "id": "AyUXjvBcfr--",
        "colab_type": "code",
        "outputId": "dac808e6-9b4e-4060-ea5b-9dfcf82528c0",
        "colab": {
          "base_uri": "https://localhost:8080/",
          "height": 235
        }
      },
      "source": [
        "train.info()"
      ],
      "execution_count": 0,
      "outputs": [
        {
          "output_type": "stream",
          "text": [
            "<class 'pandas.core.frame.DataFrame'>\n",
            "RangeIndex: 23256 entries, 0 to 23255\n",
            "Data columns (total 6 columns):\n",
            " #   Column          Non-Null Count  Dtype  \n",
            "---  ------          --------------  -----  \n",
            " 0   Id              23256 non-null  int64  \n",
            " 1   Province_State  9880 non-null   object \n",
            " 2   Country_Region  23256 non-null  object \n",
            " 3   Date            23256 non-null  object \n",
            " 4   ConfirmedCases  23256 non-null  float64\n",
            " 5   Fatalities      23256 non-null  float64\n",
            "dtypes: float64(2), int64(1), object(3)\n",
            "memory usage: 1.1+ MB\n"
          ],
          "name": "stdout"
        }
      ]
    },
    {
      "cell_type": "code",
      "metadata": {
        "id": "kxBl-b6Cftyu",
        "colab_type": "code",
        "colab": {}
      },
      "source": [
        "mask = train['Date'].max()  # string dates, can be compared\n",
        "world_cum_confirmed = train[train['Date'] == mask].ConfirmedCases.sum()\n",
        "world_cum_fatal =   train[train['Date'] == mask].Fatalities.sum()\n",
        "#world_cum_fatal = sum(train[train['Date'] == mask].Fatalities)\n"
      ],
      "execution_count": 0,
      "outputs": []
    },
    {
      "cell_type": "code",
      "metadata": {
        "id": "rjhqf19LhOVI",
        "colab_type": "code",
        "outputId": "4e71c751-63c4-4c0d-b8f8-a74db803b694",
        "colab": {
          "base_uri": "https://localhost:8080/",
          "height": 84
        }
      },
      "source": [
        "print('Number of Countires: ', len(train['Country_Region'].unique()))\n",
        "print('Training dataset ends at: ', mask)\n",
        "print('Number of cumulative confirmed cases worldwide are: ', world_cum_confirmed)\n",
        "print('Number of cumulative fatal cases worldwide are: ', world_cum_fatal)"
      ],
      "execution_count": 0,
      "outputs": [
        {
          "output_type": "stream",
          "text": [
            "Number of Countires:  180\n",
            "Training dataset ends at:  2020-04-06\n",
            "Number of cumulative confirmed cases worldwide are:  1344856.0\n",
            "Number of cumulative fatal cases worldwide are:  74560.0\n"
          ],
          "name": "stdout"
        }
      ]
    },
    {
      "cell_type": "code",
      "metadata": {
        "id": "eovRAZHQhTdX",
        "colab_type": "code",
        "outputId": "2f8a3749-2bdf-496e-a7b3-a19faeaa5d7c",
        "colab": {
          "base_uri": "https://localhost:8080/",
          "height": 373
        }
      },
      "source": [
        "# top 10 countires that have most servere situation\n",
        "cum_per_country = train[ train['Date'] == mask].groupby(['Date','Country_Region']).sum().sort_values(['ConfirmedCases'], ascending=False)\n",
        "cum_per_country[:10]"
      ],
      "execution_count": 0,
      "outputs": [
        {
          "output_type": "execute_result",
          "data": {
            "text/html": [
              "<div>\n",
              "<style scoped>\n",
              "    .dataframe tbody tr th:only-of-type {\n",
              "        vertical-align: middle;\n",
              "    }\n",
              "\n",
              "    .dataframe tbody tr th {\n",
              "        vertical-align: top;\n",
              "    }\n",
              "\n",
              "    .dataframe thead th {\n",
              "        text-align: right;\n",
              "    }\n",
              "</style>\n",
              "<table border=\"1\" class=\"dataframe\">\n",
              "  <thead>\n",
              "    <tr style=\"text-align: right;\">\n",
              "      <th></th>\n",
              "      <th></th>\n",
              "      <th>Id</th>\n",
              "      <th>ConfirmedCases</th>\n",
              "      <th>Fatalities</th>\n",
              "    </tr>\n",
              "    <tr>\n",
              "      <th>Date</th>\n",
              "      <th>Country_Region</th>\n",
              "      <th></th>\n",
              "      <th></th>\n",
              "      <th></th>\n",
              "    </tr>\n",
              "  </thead>\n",
              "  <tbody>\n",
              "    <tr>\n",
              "      <th rowspan=\"10\" valign=\"top\">2020-04-06</th>\n",
              "      <th>US</th>\n",
              "      <td>1497717</td>\n",
              "      <td>366454.0</td>\n",
              "      <td>10779.0</td>\n",
              "    </tr>\n",
              "    <tr>\n",
              "      <th>Spain</th>\n",
              "      <td>23295</td>\n",
              "      <td>136675.0</td>\n",
              "      <td>13341.0</td>\n",
              "    </tr>\n",
              "    <tr>\n",
              "      <th>Italy</th>\n",
              "      <td>15591</td>\n",
              "      <td>132547.0</td>\n",
              "      <td>16523.0</td>\n",
              "    </tr>\n",
              "    <tr>\n",
              "      <th>Germany</th>\n",
              "      <td>13558</td>\n",
              "      <td>103374.0</td>\n",
              "      <td>1810.0</td>\n",
              "    </tr>\n",
              "    <tr>\n",
              "      <th>France</th>\n",
              "      <td>126485</td>\n",
              "      <td>98962.0</td>\n",
              "      <td>8926.0</td>\n",
              "    </tr>\n",
              "    <tr>\n",
              "      <th>China</th>\n",
              "      <td>249678</td>\n",
              "      <td>82665.0</td>\n",
              "      <td>3335.0</td>\n",
              "    </tr>\n",
              "    <tr>\n",
              "      <th>Iran</th>\n",
              "      <td>15163</td>\n",
              "      <td>60500.0</td>\n",
              "      <td>3739.0</td>\n",
              "    </tr>\n",
              "    <tr>\n",
              "      <th>United Kingdom</th>\n",
              "      <td>314805</td>\n",
              "      <td>52277.0</td>\n",
              "      <td>5385.0</td>\n",
              "    </tr>\n",
              "    <tr>\n",
              "      <th>Turkey</th>\n",
              "      <td>24793</td>\n",
              "      <td>30217.0</td>\n",
              "      <td>649.0</td>\n",
              "    </tr>\n",
              "    <tr>\n",
              "      <th>Switzerland</th>\n",
              "      <td>23830</td>\n",
              "      <td>21657.0</td>\n",
              "      <td>765.0</td>\n",
              "    </tr>\n",
              "  </tbody>\n",
              "</table>\n",
              "</div>"
            ],
            "text/plain": [
              "                                Id  ConfirmedCases  Fatalities\n",
              "Date       Country_Region                                     \n",
              "2020-04-06 US              1497717        366454.0     10779.0\n",
              "           Spain             23295        136675.0     13341.0\n",
              "           Italy             15591        132547.0     16523.0\n",
              "           Germany           13558        103374.0      1810.0\n",
              "           France           126485         98962.0      8926.0\n",
              "           China            249678         82665.0      3335.0\n",
              "           Iran              15163         60500.0      3739.0\n",
              "           United Kingdom   314805         52277.0      5385.0\n",
              "           Turkey            24793         30217.0       649.0\n",
              "           Switzerland       23830         21657.0       765.0"
            ]
          },
          "metadata": {
            "tags": []
          },
          "execution_count": 15
        }
      ]
    },
    {
      "cell_type": "code",
      "metadata": {
        "id": "Su4qYJr_hvJI",
        "colab_type": "code",
        "outputId": "09ed2442-f478-43a3-fadc-41bf3e87fd52",
        "colab": {
          "base_uri": "https://localhost:8080/",
          "height": 542
        }
      },
      "source": [
        "# plot growing curve(by date) for top 5 most servere countries except China\n",
        "# TODO: optimize code\n",
        "\n",
        "date = train['Date'].unique()\n",
        "# cc_us = train[train['Country_Region'] == 'US'].groupby(['Date']).sum().ConfirmedCases\n",
        "# ft_us = train[train['Country_Region'] == 'US'].groupby(['Date']).sum().Fatalities\n",
        "# cc_ity = train[train['Country_Region'] == 'Italy'].groupby(['Date']).sum().ConfirmedCases\n",
        "# ft_ity = train[train['Country_Region'] == 'Italy'].groupby(['Date']).sum().Fatalities\n",
        "# cc_spn = train[train['Country_Region'] == 'Spain'].groupby(['Date']).sum().ConfirmedCases\n",
        "# ft_spn = train[train['Country_Region'] == 'Spain'].groupby(['Date']).sum().Fatalities\n",
        "# cc_gmn = train[train['Country_Region'] == 'Germany'].groupby(['Date']).sum().ConfirmedCases\n",
        "# ft_gmn = train[train['Country_Region'] == 'Germany'].groupby(['Date']).sum().Fatalities\n",
        "# cc_frc = train[train['Country_Region'] == 'France'].groupby(['Date']).sum().ConfirmedCases\n",
        "# ft_frc = train[train['Country_Region'] == 'France'].groupby(['Date']).sum().Fatalities\n",
        "\n",
        "growdict = {}\n",
        "cum_per_country = train[ train['Date'] == mask].groupby(['Country_Region']).sum().sort_values(['ConfirmedCases'], ascending=False)\n",
        "for ctry in cum_per_country.index[:6]:   # here index is 'coutry_region', 'date' is gone \n",
        "  growdict['cc_{}'.format(ctry)] = train[train['Country_Region']==ctry].groupby('Date').sum().ConfirmedCases\n",
        "  growdict['ft_{}'.format(ctry)] = train[train['Country_Region']==ctry].groupby('Date').sum().Fatalities\n",
        "\n",
        "fig = go.Figure()\n",
        "# add traces\n",
        "# fig.add_trace(go.Scatter(x=date, y=cc_us, name='US'))\n",
        "# fig.add_trace(go.Scatter(x=date, y=cc_ity, name='Italy'))\n",
        "# fig.add_trace(go.Scatter(x=date, y=cc_spn, name='Spain'))\n",
        "# fig.add_trace(go.Scatter(x=date, y=cc_gmn, name='Germany'))\n",
        "# fig.add_trace(go.Scatter(x=date, y=cc_frc, name='France'))\n",
        "for ctry in cum_per_country.index[:6]: \n",
        "  fig.add_trace(go.Scatter(x=date, y=growdict['cc_{}'.format(ctry)], name =ctry) )\n",
        "\n",
        "fig.update_layout(title=\"Plot of Cumulative Cases for Top 5 countires (except China)\",\n",
        "         xaxis_title=\"Date\",\n",
        "         yaxis_title=\"Cases\")\n",
        "fig.update_xaxes(nticks=30)\n",
        "\n",
        "fig.show()"
      ],
      "execution_count": 0,
      "outputs": [
        {
          "output_type": "display_data",
          "data": {
            "text/html": [
              "<html>\n",
              "<head><meta charset=\"utf-8\" /></head>\n",
              "<body>\n",
              "    <div>\n",
              "            <script src=\"https://cdnjs.cloudflare.com/ajax/libs/mathjax/2.7.5/MathJax.js?config=TeX-AMS-MML_SVG\"></script><script type=\"text/javascript\">if (window.MathJax) {MathJax.Hub.Config({SVG: {font: \"STIX-Web\"}});}</script>\n",
              "                <script type=\"text/javascript\">window.PlotlyConfig = {MathJaxConfig: 'local'};</script>\n",
              "        <script src=\"https://cdn.plot.ly/plotly-latest.min.js\"></script>    \n",
              "            <div id=\"be7f82c2-1a8a-4d5c-8e23-54b900d31b1a\" class=\"plotly-graph-div\" style=\"height:525px; width:100%;\"></div>\n",
              "            <script type=\"text/javascript\">\n",
              "                \n",
              "                    window.PLOTLYENV=window.PLOTLYENV || {};\n",
              "                    \n",
              "                if (document.getElementById(\"be7f82c2-1a8a-4d5c-8e23-54b900d31b1a\")) {\n",
              "                    Plotly.newPlot(\n",
              "                        'be7f82c2-1a8a-4d5c-8e23-54b900d31b1a',\n",
              "                        [{\"name\": \"US\", \"type\": \"scatter\", \"x\": [\"2020-01-22\", \"2020-01-23\", \"2020-01-24\", \"2020-01-25\", \"2020-01-26\", \"2020-01-27\", \"2020-01-28\", \"2020-01-29\", \"2020-01-30\", \"2020-01-31\", \"2020-02-01\", \"2020-02-02\", \"2020-02-03\", \"2020-02-04\", \"2020-02-05\", \"2020-02-06\", \"2020-02-07\", \"2020-02-08\", \"2020-02-09\", \"2020-02-10\", \"2020-02-11\", \"2020-02-12\", \"2020-02-13\", \"2020-02-14\", \"2020-02-15\", \"2020-02-16\", \"2020-02-17\", \"2020-02-18\", \"2020-02-19\", \"2020-02-20\", \"2020-02-21\", \"2020-02-22\", \"2020-02-23\", \"2020-02-24\", \"2020-02-25\", \"2020-02-26\", \"2020-02-27\", \"2020-02-28\", \"2020-02-29\", \"2020-03-01\", \"2020-03-02\", \"2020-03-03\", \"2020-03-04\", \"2020-03-05\", \"2020-03-06\", \"2020-03-07\", \"2020-03-08\", \"2020-03-09\", \"2020-03-10\", \"2020-03-11\", \"2020-03-12\", \"2020-03-13\", \"2020-03-14\", \"2020-03-15\", \"2020-03-16\", \"2020-03-17\", \"2020-03-18\", \"2020-03-19\", \"2020-03-20\", \"2020-03-21\", \"2020-03-22\", \"2020-03-23\", \"2020-03-24\", \"2020-03-25\", \"2020-03-26\", \"2020-03-27\", \"2020-03-28\", \"2020-03-29\", \"2020-03-30\", \"2020-03-31\", \"2020-04-01\", \"2020-04-02\", \"2020-04-03\", \"2020-04-04\", \"2020-04-05\", \"2020-04-06\"], \"y\": [0.0, 0.0, 0.0, 0.0, 0.0, 0.0, 0.0, 0.0, 0.0, 0.0, 0.0, 0.0, 0.0, 0.0, 0.0, 0.0, 0.0, 0.0, 0.0, 0.0, 0.0, 0.0, 0.0, 0.0, 0.0, 0.0, 0.0, 0.0, 0.0, 0.0, 0.0, 0.0, 0.0, 0.0, 0.0, 0.0, 0.0, 0.0, 0.0, 0.0, 0.0, 0.0, 0.0, 0.0, 0.0, 0.0, 0.0, 0.0, 892.0, 1214.0, 1596.0, 2112.0, 2658.0, 3431.0, 4565.0, 6353.0, 7715.0, 13608.0, 19025.0, 25414.0, 33663.0, 43586.0, 53659.0, 65701.0, 83759.0, 101580.0, 121326.0, 140734.0, 161655.0, 188018.0, 213214.0, 243295.0, 275426.0, 308690.0, 336912.0, 366454.0]}, {\"name\": \"Spain\", \"type\": \"scatter\", \"x\": [\"2020-01-22\", \"2020-01-23\", \"2020-01-24\", \"2020-01-25\", \"2020-01-26\", \"2020-01-27\", \"2020-01-28\", \"2020-01-29\", \"2020-01-30\", \"2020-01-31\", \"2020-02-01\", \"2020-02-02\", \"2020-02-03\", \"2020-02-04\", \"2020-02-05\", \"2020-02-06\", \"2020-02-07\", \"2020-02-08\", \"2020-02-09\", \"2020-02-10\", \"2020-02-11\", \"2020-02-12\", \"2020-02-13\", \"2020-02-14\", \"2020-02-15\", \"2020-02-16\", \"2020-02-17\", \"2020-02-18\", \"2020-02-19\", \"2020-02-20\", \"2020-02-21\", \"2020-02-22\", \"2020-02-23\", \"2020-02-24\", \"2020-02-25\", \"2020-02-26\", \"2020-02-27\", \"2020-02-28\", \"2020-02-29\", \"2020-03-01\", \"2020-03-02\", \"2020-03-03\", \"2020-03-04\", \"2020-03-05\", \"2020-03-06\", \"2020-03-07\", \"2020-03-08\", \"2020-03-09\", \"2020-03-10\", \"2020-03-11\", \"2020-03-12\", \"2020-03-13\", \"2020-03-14\", \"2020-03-15\", \"2020-03-16\", \"2020-03-17\", \"2020-03-18\", \"2020-03-19\", \"2020-03-20\", \"2020-03-21\", \"2020-03-22\", \"2020-03-23\", \"2020-03-24\", \"2020-03-25\", \"2020-03-26\", \"2020-03-27\", \"2020-03-28\", \"2020-03-29\", \"2020-03-30\", \"2020-03-31\", \"2020-04-01\", \"2020-04-02\", \"2020-04-03\", \"2020-04-04\", \"2020-04-05\", \"2020-04-06\"], \"y\": [0.0, 0.0, 0.0, 0.0, 0.0, 0.0, 0.0, 0.0, 0.0, 0.0, 1.0, 1.0, 1.0, 1.0, 1.0, 1.0, 1.0, 1.0, 2.0, 2.0, 2.0, 2.0, 2.0, 2.0, 2.0, 2.0, 2.0, 2.0, 2.0, 2.0, 2.0, 2.0, 2.0, 2.0, 6.0, 13.0, 15.0, 32.0, 45.0, 84.0, 120.0, 165.0, 222.0, 259.0, 400.0, 500.0, 673.0, 1073.0, 1695.0, 2277.0, 2277.0, 5232.0, 6391.0, 7798.0, 9942.0, 11748.0, 13910.0, 17963.0, 20410.0, 25374.0, 28768.0, 35136.0, 39885.0, 49515.0, 57786.0, 65719.0, 73235.0, 80110.0, 87956.0, 95923.0, 104118.0, 112065.0, 119199.0, 126168.0, 131646.0, 136675.0]}, {\"name\": \"Italy\", \"type\": \"scatter\", \"x\": [\"2020-01-22\", \"2020-01-23\", \"2020-01-24\", \"2020-01-25\", \"2020-01-26\", \"2020-01-27\", \"2020-01-28\", \"2020-01-29\", \"2020-01-30\", \"2020-01-31\", \"2020-02-01\", \"2020-02-02\", \"2020-02-03\", \"2020-02-04\", \"2020-02-05\", \"2020-02-06\", \"2020-02-07\", \"2020-02-08\", \"2020-02-09\", \"2020-02-10\", \"2020-02-11\", \"2020-02-12\", \"2020-02-13\", \"2020-02-14\", \"2020-02-15\", \"2020-02-16\", \"2020-02-17\", \"2020-02-18\", \"2020-02-19\", \"2020-02-20\", \"2020-02-21\", \"2020-02-22\", \"2020-02-23\", \"2020-02-24\", \"2020-02-25\", \"2020-02-26\", \"2020-02-27\", \"2020-02-28\", \"2020-02-29\", \"2020-03-01\", \"2020-03-02\", \"2020-03-03\", \"2020-03-04\", \"2020-03-05\", \"2020-03-06\", \"2020-03-07\", \"2020-03-08\", \"2020-03-09\", \"2020-03-10\", \"2020-03-11\", \"2020-03-12\", \"2020-03-13\", \"2020-03-14\", \"2020-03-15\", \"2020-03-16\", \"2020-03-17\", \"2020-03-18\", \"2020-03-19\", \"2020-03-20\", \"2020-03-21\", \"2020-03-22\", \"2020-03-23\", \"2020-03-24\", \"2020-03-25\", \"2020-03-26\", \"2020-03-27\", \"2020-03-28\", \"2020-03-29\", \"2020-03-30\", \"2020-03-31\", \"2020-04-01\", \"2020-04-02\", \"2020-04-03\", \"2020-04-04\", \"2020-04-05\", \"2020-04-06\"], \"y\": [0.0, 0.0, 0.0, 0.0, 0.0, 0.0, 0.0, 0.0, 0.0, 2.0, 2.0, 2.0, 2.0, 2.0, 2.0, 2.0, 3.0, 3.0, 3.0, 3.0, 3.0, 3.0, 3.0, 3.0, 3.0, 3.0, 3.0, 3.0, 3.0, 3.0, 20.0, 62.0, 155.0, 229.0, 322.0, 453.0, 655.0, 888.0, 1128.0, 1694.0, 2036.0, 2502.0, 3089.0, 3858.0, 4636.0, 5883.0, 7375.0, 9172.0, 10149.0, 12462.0, 12462.0, 17660.0, 21157.0, 24747.0, 27980.0, 31506.0, 35713.0, 41035.0, 47021.0, 53578.0, 59138.0, 63927.0, 69176.0, 74386.0, 80589.0, 86498.0, 92472.0, 97689.0, 101739.0, 105792.0, 110574.0, 115242.0, 119827.0, 124632.0, 128948.0, 132547.0]}, {\"name\": \"Germany\", \"type\": \"scatter\", \"x\": [\"2020-01-22\", \"2020-01-23\", \"2020-01-24\", \"2020-01-25\", \"2020-01-26\", \"2020-01-27\", \"2020-01-28\", \"2020-01-29\", \"2020-01-30\", \"2020-01-31\", \"2020-02-01\", \"2020-02-02\", \"2020-02-03\", \"2020-02-04\", \"2020-02-05\", \"2020-02-06\", \"2020-02-07\", \"2020-02-08\", \"2020-02-09\", \"2020-02-10\", \"2020-02-11\", \"2020-02-12\", \"2020-02-13\", \"2020-02-14\", \"2020-02-15\", \"2020-02-16\", \"2020-02-17\", \"2020-02-18\", \"2020-02-19\", \"2020-02-20\", \"2020-02-21\", \"2020-02-22\", \"2020-02-23\", \"2020-02-24\", \"2020-02-25\", \"2020-02-26\", \"2020-02-27\", \"2020-02-28\", \"2020-02-29\", \"2020-03-01\", \"2020-03-02\", \"2020-03-03\", \"2020-03-04\", \"2020-03-05\", \"2020-03-06\", \"2020-03-07\", \"2020-03-08\", \"2020-03-09\", \"2020-03-10\", \"2020-03-11\", \"2020-03-12\", \"2020-03-13\", \"2020-03-14\", \"2020-03-15\", \"2020-03-16\", \"2020-03-17\", \"2020-03-18\", \"2020-03-19\", \"2020-03-20\", \"2020-03-21\", \"2020-03-22\", \"2020-03-23\", \"2020-03-24\", \"2020-03-25\", \"2020-03-26\", \"2020-03-27\", \"2020-03-28\", \"2020-03-29\", \"2020-03-30\", \"2020-03-31\", \"2020-04-01\", \"2020-04-02\", \"2020-04-03\", \"2020-04-04\", \"2020-04-05\", \"2020-04-06\"], \"y\": [0.0, 0.0, 0.0, 0.0, 0.0, 1.0, 4.0, 4.0, 4.0, 5.0, 8.0, 10.0, 12.0, 12.0, 12.0, 12.0, 13.0, 13.0, 14.0, 14.0, 16.0, 16.0, 16.0, 16.0, 16.0, 16.0, 16.0, 16.0, 16.0, 16.0, 16.0, 16.0, 16.0, 16.0, 17.0, 27.0, 46.0, 48.0, 79.0, 130.0, 159.0, 196.0, 262.0, 482.0, 670.0, 799.0, 1040.0, 1176.0, 1457.0, 1908.0, 2078.0, 3675.0, 4585.0, 5795.0, 7272.0, 9257.0, 12327.0, 15320.0, 19848.0, 22213.0, 24873.0, 29056.0, 32986.0, 37323.0, 43938.0, 50871.0, 57695.0, 62095.0, 66885.0, 71808.0, 77872.0, 84794.0, 91159.0, 96092.0, 100123.0, 103374.0]}, {\"name\": \"France\", \"type\": \"scatter\", \"x\": [\"2020-01-22\", \"2020-01-23\", \"2020-01-24\", \"2020-01-25\", \"2020-01-26\", \"2020-01-27\", \"2020-01-28\", \"2020-01-29\", \"2020-01-30\", \"2020-01-31\", \"2020-02-01\", \"2020-02-02\", \"2020-02-03\", \"2020-02-04\", \"2020-02-05\", \"2020-02-06\", \"2020-02-07\", \"2020-02-08\", \"2020-02-09\", \"2020-02-10\", \"2020-02-11\", \"2020-02-12\", \"2020-02-13\", \"2020-02-14\", \"2020-02-15\", \"2020-02-16\", \"2020-02-17\", \"2020-02-18\", \"2020-02-19\", \"2020-02-20\", \"2020-02-21\", \"2020-02-22\", \"2020-02-23\", \"2020-02-24\", \"2020-02-25\", \"2020-02-26\", \"2020-02-27\", \"2020-02-28\", \"2020-02-29\", \"2020-03-01\", \"2020-03-02\", \"2020-03-03\", \"2020-03-04\", \"2020-03-05\", \"2020-03-06\", \"2020-03-07\", \"2020-03-08\", \"2020-03-09\", \"2020-03-10\", \"2020-03-11\", \"2020-03-12\", \"2020-03-13\", \"2020-03-14\", \"2020-03-15\", \"2020-03-16\", \"2020-03-17\", \"2020-03-18\", \"2020-03-19\", \"2020-03-20\", \"2020-03-21\", \"2020-03-22\", \"2020-03-23\", \"2020-03-24\", \"2020-03-25\", \"2020-03-26\", \"2020-03-27\", \"2020-03-28\", \"2020-03-29\", \"2020-03-30\", \"2020-03-31\", \"2020-04-01\", \"2020-04-02\", \"2020-04-03\", \"2020-04-04\", \"2020-04-05\", \"2020-04-06\"], \"y\": [0.0, 0.0, 2.0, 3.0, 3.0, 3.0, 4.0, 5.0, 5.0, 5.0, 6.0, 6.0, 6.0, 6.0, 6.0, 6.0, 6.0, 11.0, 11.0, 11.0, 11.0, 11.0, 11.0, 11.0, 12.0, 12.0, 12.0, 12.0, 12.0, 12.0, 12.0, 12.0, 12.0, 12.0, 14.0, 18.0, 38.0, 57.0, 100.0, 130.0, 191.0, 204.0, 288.0, 380.0, 656.0, 959.0, 1136.0, 1219.0, 1794.0, 2293.0, 2293.0, 3681.0, 4496.0, 4532.0, 6683.0, 7715.0, 9124.0, 10970.0, 12758.0, 14463.0, 16243.0, 20123.0, 22622.0, 25600.0, 29551.0, 33402.0, 38105.0, 40708.0, 45170.0, 52827.0, 57749.0, 59929.0, 65202.0, 90848.0, 93772.0, 98962.0]}, {\"name\": \"China\", \"type\": \"scatter\", \"x\": [\"2020-01-22\", \"2020-01-23\", \"2020-01-24\", \"2020-01-25\", \"2020-01-26\", \"2020-01-27\", \"2020-01-28\", \"2020-01-29\", \"2020-01-30\", \"2020-01-31\", \"2020-02-01\", \"2020-02-02\", \"2020-02-03\", \"2020-02-04\", \"2020-02-05\", \"2020-02-06\", \"2020-02-07\", \"2020-02-08\", \"2020-02-09\", \"2020-02-10\", \"2020-02-11\", \"2020-02-12\", \"2020-02-13\", \"2020-02-14\", \"2020-02-15\", \"2020-02-16\", \"2020-02-17\", \"2020-02-18\", \"2020-02-19\", \"2020-02-20\", \"2020-02-21\", \"2020-02-22\", \"2020-02-23\", \"2020-02-24\", \"2020-02-25\", \"2020-02-26\", \"2020-02-27\", \"2020-02-28\", \"2020-02-29\", \"2020-03-01\", \"2020-03-02\", \"2020-03-03\", \"2020-03-04\", \"2020-03-05\", \"2020-03-06\", \"2020-03-07\", \"2020-03-08\", \"2020-03-09\", \"2020-03-10\", \"2020-03-11\", \"2020-03-12\", \"2020-03-13\", \"2020-03-14\", \"2020-03-15\", \"2020-03-16\", \"2020-03-17\", \"2020-03-18\", \"2020-03-19\", \"2020-03-20\", \"2020-03-21\", \"2020-03-22\", \"2020-03-23\", \"2020-03-24\", \"2020-03-25\", \"2020-03-26\", \"2020-03-27\", \"2020-03-28\", \"2020-03-29\", \"2020-03-30\", \"2020-03-31\", \"2020-04-01\", \"2020-04-02\", \"2020-04-03\", \"2020-04-04\", \"2020-04-05\", \"2020-04-06\"], \"y\": [548.0, 643.0, 920.0, 1406.0, 2075.0, 2877.0, 5509.0, 6087.0, 8141.0, 9802.0, 11891.0, 16630.0, 19716.0, 23707.0, 27440.0, 30587.0, 34110.0, 36814.0, 39829.0, 42354.0, 44386.0, 44759.0, 59895.0, 66358.0, 68413.0, 70513.0, 72434.0, 74211.0, 74619.0, 75077.0, 75550.0, 77001.0, 77022.0, 77241.0, 77754.0, 78166.0, 78600.0, 78928.0, 79356.0, 79932.0, 80136.0, 80261.0, 80386.0, 80537.0, 80690.0, 80770.0, 80823.0, 80860.0, 80887.0, 80921.0, 80932.0, 80945.0, 80977.0, 81003.0, 81033.0, 81058.0, 81102.0, 81156.0, 81250.0, 81305.0, 81435.0, 81498.0, 81591.0, 81661.0, 81782.0, 81897.0, 81999.0, 82122.0, 82198.0, 82279.0, 82361.0, 82432.0, 82511.0, 82543.0, 82602.0, 82665.0]}],\n",
              "                        {\"template\": {\"data\": {\"bar\": [{\"error_x\": {\"color\": \"#2a3f5f\"}, \"error_y\": {\"color\": \"#2a3f5f\"}, \"marker\": {\"line\": {\"color\": \"#E5ECF6\", \"width\": 0.5}}, \"type\": \"bar\"}], \"barpolar\": [{\"marker\": {\"line\": {\"color\": \"#E5ECF6\", \"width\": 0.5}}, \"type\": \"barpolar\"}], \"carpet\": [{\"aaxis\": {\"endlinecolor\": \"#2a3f5f\", \"gridcolor\": \"white\", \"linecolor\": \"white\", \"minorgridcolor\": \"white\", \"startlinecolor\": \"#2a3f5f\"}, \"baxis\": {\"endlinecolor\": \"#2a3f5f\", \"gridcolor\": \"white\", \"linecolor\": \"white\", \"minorgridcolor\": \"white\", \"startlinecolor\": \"#2a3f5f\"}, \"type\": \"carpet\"}], \"choropleth\": [{\"colorbar\": {\"outlinewidth\": 0, \"ticks\": \"\"}, \"type\": \"choropleth\"}], \"contour\": [{\"colorbar\": {\"outlinewidth\": 0, \"ticks\": \"\"}, \"colorscale\": [[0.0, \"#0d0887\"], [0.1111111111111111, \"#46039f\"], [0.2222222222222222, \"#7201a8\"], [0.3333333333333333, \"#9c179e\"], [0.4444444444444444, \"#bd3786\"], [0.5555555555555556, \"#d8576b\"], [0.6666666666666666, \"#ed7953\"], [0.7777777777777778, \"#fb9f3a\"], [0.8888888888888888, \"#fdca26\"], [1.0, \"#f0f921\"]], \"type\": \"contour\"}], \"contourcarpet\": [{\"colorbar\": {\"outlinewidth\": 0, \"ticks\": \"\"}, \"type\": \"contourcarpet\"}], \"heatmap\": [{\"colorbar\": {\"outlinewidth\": 0, \"ticks\": \"\"}, \"colorscale\": [[0.0, \"#0d0887\"], [0.1111111111111111, \"#46039f\"], [0.2222222222222222, \"#7201a8\"], [0.3333333333333333, \"#9c179e\"], [0.4444444444444444, \"#bd3786\"], [0.5555555555555556, \"#d8576b\"], [0.6666666666666666, \"#ed7953\"], [0.7777777777777778, \"#fb9f3a\"], [0.8888888888888888, \"#fdca26\"], [1.0, \"#f0f921\"]], \"type\": \"heatmap\"}], \"heatmapgl\": [{\"colorbar\": {\"outlinewidth\": 0, \"ticks\": \"\"}, \"colorscale\": [[0.0, \"#0d0887\"], [0.1111111111111111, \"#46039f\"], [0.2222222222222222, \"#7201a8\"], [0.3333333333333333, \"#9c179e\"], [0.4444444444444444, \"#bd3786\"], [0.5555555555555556, \"#d8576b\"], [0.6666666666666666, \"#ed7953\"], [0.7777777777777778, \"#fb9f3a\"], [0.8888888888888888, \"#fdca26\"], [1.0, \"#f0f921\"]], \"type\": \"heatmapgl\"}], \"histogram\": [{\"marker\": {\"colorbar\": {\"outlinewidth\": 0, \"ticks\": \"\"}}, \"type\": \"histogram\"}], \"histogram2d\": [{\"colorbar\": {\"outlinewidth\": 0, \"ticks\": \"\"}, \"colorscale\": [[0.0, \"#0d0887\"], [0.1111111111111111, \"#46039f\"], [0.2222222222222222, \"#7201a8\"], [0.3333333333333333, \"#9c179e\"], [0.4444444444444444, \"#bd3786\"], [0.5555555555555556, \"#d8576b\"], [0.6666666666666666, \"#ed7953\"], [0.7777777777777778, \"#fb9f3a\"], [0.8888888888888888, \"#fdca26\"], [1.0, \"#f0f921\"]], \"type\": \"histogram2d\"}], \"histogram2dcontour\": [{\"colorbar\": {\"outlinewidth\": 0, \"ticks\": \"\"}, \"colorscale\": [[0.0, \"#0d0887\"], [0.1111111111111111, \"#46039f\"], [0.2222222222222222, \"#7201a8\"], [0.3333333333333333, \"#9c179e\"], [0.4444444444444444, \"#bd3786\"], [0.5555555555555556, \"#d8576b\"], [0.6666666666666666, \"#ed7953\"], [0.7777777777777778, \"#fb9f3a\"], [0.8888888888888888, \"#fdca26\"], [1.0, \"#f0f921\"]], \"type\": \"histogram2dcontour\"}], \"mesh3d\": [{\"colorbar\": {\"outlinewidth\": 0, \"ticks\": \"\"}, \"type\": \"mesh3d\"}], \"parcoords\": [{\"line\": {\"colorbar\": {\"outlinewidth\": 0, \"ticks\": \"\"}}, \"type\": \"parcoords\"}], \"pie\": [{\"automargin\": true, \"type\": \"pie\"}], \"scatter\": [{\"marker\": {\"colorbar\": {\"outlinewidth\": 0, \"ticks\": \"\"}}, \"type\": \"scatter\"}], \"scatter3d\": [{\"line\": {\"colorbar\": {\"outlinewidth\": 0, \"ticks\": \"\"}}, \"marker\": {\"colorbar\": {\"outlinewidth\": 0, \"ticks\": \"\"}}, \"type\": \"scatter3d\"}], \"scattercarpet\": [{\"marker\": {\"colorbar\": {\"outlinewidth\": 0, \"ticks\": \"\"}}, \"type\": \"scattercarpet\"}], \"scattergeo\": [{\"marker\": {\"colorbar\": {\"outlinewidth\": 0, \"ticks\": \"\"}}, \"type\": \"scattergeo\"}], \"scattergl\": [{\"marker\": {\"colorbar\": {\"outlinewidth\": 0, \"ticks\": \"\"}}, \"type\": \"scattergl\"}], \"scattermapbox\": [{\"marker\": {\"colorbar\": {\"outlinewidth\": 0, \"ticks\": \"\"}}, \"type\": \"scattermapbox\"}], \"scatterpolar\": [{\"marker\": {\"colorbar\": {\"outlinewidth\": 0, \"ticks\": \"\"}}, \"type\": \"scatterpolar\"}], \"scatterpolargl\": [{\"marker\": {\"colorbar\": {\"outlinewidth\": 0, \"ticks\": \"\"}}, \"type\": \"scatterpolargl\"}], \"scatterternary\": [{\"marker\": {\"colorbar\": {\"outlinewidth\": 0, \"ticks\": \"\"}}, \"type\": \"scatterternary\"}], \"surface\": [{\"colorbar\": {\"outlinewidth\": 0, \"ticks\": \"\"}, \"colorscale\": [[0.0, \"#0d0887\"], [0.1111111111111111, \"#46039f\"], [0.2222222222222222, \"#7201a8\"], [0.3333333333333333, \"#9c179e\"], [0.4444444444444444, \"#bd3786\"], [0.5555555555555556, \"#d8576b\"], [0.6666666666666666, \"#ed7953\"], [0.7777777777777778, \"#fb9f3a\"], [0.8888888888888888, \"#fdca26\"], [1.0, \"#f0f921\"]], \"type\": \"surface\"}], \"table\": [{\"cells\": {\"fill\": {\"color\": \"#EBF0F8\"}, \"line\": {\"color\": \"white\"}}, \"header\": {\"fill\": {\"color\": \"#C8D4E3\"}, \"line\": {\"color\": \"white\"}}, \"type\": \"table\"}]}, \"layout\": {\"annotationdefaults\": {\"arrowcolor\": \"#2a3f5f\", \"arrowhead\": 0, \"arrowwidth\": 1}, \"coloraxis\": {\"colorbar\": {\"outlinewidth\": 0, \"ticks\": \"\"}}, \"colorscale\": {\"diverging\": [[0, \"#8e0152\"], [0.1, \"#c51b7d\"], [0.2, \"#de77ae\"], [0.3, \"#f1b6da\"], [0.4, \"#fde0ef\"], [0.5, \"#f7f7f7\"], [0.6, \"#e6f5d0\"], [0.7, \"#b8e186\"], [0.8, \"#7fbc41\"], [0.9, \"#4d9221\"], [1, \"#276419\"]], \"sequential\": [[0.0, \"#0d0887\"], [0.1111111111111111, \"#46039f\"], [0.2222222222222222, \"#7201a8\"], [0.3333333333333333, \"#9c179e\"], [0.4444444444444444, \"#bd3786\"], [0.5555555555555556, \"#d8576b\"], [0.6666666666666666, \"#ed7953\"], [0.7777777777777778, \"#fb9f3a\"], [0.8888888888888888, \"#fdca26\"], [1.0, \"#f0f921\"]], \"sequentialminus\": [[0.0, \"#0d0887\"], [0.1111111111111111, \"#46039f\"], [0.2222222222222222, \"#7201a8\"], [0.3333333333333333, \"#9c179e\"], [0.4444444444444444, \"#bd3786\"], [0.5555555555555556, \"#d8576b\"], [0.6666666666666666, \"#ed7953\"], [0.7777777777777778, \"#fb9f3a\"], [0.8888888888888888, \"#fdca26\"], [1.0, \"#f0f921\"]]}, \"colorway\": [\"#636efa\", \"#EF553B\", \"#00cc96\", \"#ab63fa\", \"#FFA15A\", \"#19d3f3\", \"#FF6692\", \"#B6E880\", \"#FF97FF\", \"#FECB52\"], \"font\": {\"color\": \"#2a3f5f\"}, \"geo\": {\"bgcolor\": \"white\", \"lakecolor\": \"white\", \"landcolor\": \"#E5ECF6\", \"showlakes\": true, \"showland\": true, \"subunitcolor\": \"white\"}, \"hoverlabel\": {\"align\": \"left\"}, \"hovermode\": \"closest\", \"mapbox\": {\"style\": \"light\"}, \"paper_bgcolor\": \"white\", \"plot_bgcolor\": \"#E5ECF6\", \"polar\": {\"angularaxis\": {\"gridcolor\": \"white\", \"linecolor\": \"white\", \"ticks\": \"\"}, \"bgcolor\": \"#E5ECF6\", \"radialaxis\": {\"gridcolor\": \"white\", \"linecolor\": \"white\", \"ticks\": \"\"}}, \"scene\": {\"xaxis\": {\"backgroundcolor\": \"#E5ECF6\", \"gridcolor\": \"white\", \"gridwidth\": 2, \"linecolor\": \"white\", \"showbackground\": true, \"ticks\": \"\", \"zerolinecolor\": \"white\"}, \"yaxis\": {\"backgroundcolor\": \"#E5ECF6\", \"gridcolor\": \"white\", \"gridwidth\": 2, \"linecolor\": \"white\", \"showbackground\": true, \"ticks\": \"\", \"zerolinecolor\": \"white\"}, \"zaxis\": {\"backgroundcolor\": \"#E5ECF6\", \"gridcolor\": \"white\", \"gridwidth\": 2, \"linecolor\": \"white\", \"showbackground\": true, \"ticks\": \"\", \"zerolinecolor\": \"white\"}}, \"shapedefaults\": {\"line\": {\"color\": \"#2a3f5f\"}}, \"ternary\": {\"aaxis\": {\"gridcolor\": \"white\", \"linecolor\": \"white\", \"ticks\": \"\"}, \"baxis\": {\"gridcolor\": \"white\", \"linecolor\": \"white\", \"ticks\": \"\"}, \"bgcolor\": \"#E5ECF6\", \"caxis\": {\"gridcolor\": \"white\", \"linecolor\": \"white\", \"ticks\": \"\"}}, \"title\": {\"x\": 0.05}, \"xaxis\": {\"automargin\": true, \"gridcolor\": \"white\", \"linecolor\": \"white\", \"ticks\": \"\", \"title\": {\"standoff\": 15}, \"zerolinecolor\": \"white\", \"zerolinewidth\": 2}, \"yaxis\": {\"automargin\": true, \"gridcolor\": \"white\", \"linecolor\": \"white\", \"ticks\": \"\", \"title\": {\"standoff\": 15}, \"zerolinecolor\": \"white\", \"zerolinewidth\": 2}}}, \"title\": {\"text\": \"Plot of Cumulative Cases for Top 5 countires (except China)\"}, \"xaxis\": {\"nticks\": 30, \"title\": {\"text\": \"Date\"}}, \"yaxis\": {\"title\": {\"text\": \"Cases\"}}},\n",
              "                        {\"responsive\": true}\n",
              "                    ).then(function(){\n",
              "                            \n",
              "var gd = document.getElementById('be7f82c2-1a8a-4d5c-8e23-54b900d31b1a');\n",
              "var x = new MutationObserver(function (mutations, observer) {{\n",
              "        var display = window.getComputedStyle(gd).display;\n",
              "        if (!display || display === 'none') {{\n",
              "            console.log([gd, 'removed!']);\n",
              "            Plotly.purge(gd);\n",
              "            observer.disconnect();\n",
              "        }}\n",
              "}});\n",
              "\n",
              "// Listen for the removal of the full notebook cells\n",
              "var notebookContainer = gd.closest('#notebook-container');\n",
              "if (notebookContainer) {{\n",
              "    x.observe(notebookContainer, {childList: true});\n",
              "}}\n",
              "\n",
              "// Listen for the clearing of the current output cell\n",
              "var outputEl = gd.closest('.output');\n",
              "if (outputEl) {{\n",
              "    x.observe(outputEl, {childList: true});\n",
              "}}\n",
              "\n",
              "                        })\n",
              "                };\n",
              "                \n",
              "            </script>\n",
              "        </div>\n",
              "</body>\n",
              "</html>"
            ]
          },
          "metadata": {
            "tags": []
          }
        }
      ]
    },
    {
      "cell_type": "code",
      "metadata": {
        "id": "UNDCb969jwmd",
        "colab_type": "code",
        "colab": {}
      },
      "source": [
        "# simple visualization with DF plot\n",
        "dd = train[train['Country_Region'].isin([\"US\",'Italy'])].groupby(['Country_Region','Date',]).sum().ConfirmedCases\n",
        "dd.plot()"
      ],
      "execution_count": 0,
      "outputs": []
    },
    {
      "cell_type": "code",
      "metadata": {
        "id": "EAuQlZTLUxch",
        "colab_type": "code",
        "outputId": "2d01fadd-337a-4353-cc9e-697c0ce76c0c",
        "colab": {
          "base_uri": "https://localhost:8080/",
          "height": 84
        }
      },
      "source": [
        "def print_full(x):\n",
        "    pd.set_option('display.max_rows', len(x))\n",
        "    print(x)\n",
        "    pd.reset_option('display.max_rows')\n",
        "#print_full(ff.Date.unique()[::4])\n",
        "#print_full(ff[:100])\n",
        "print_full( ff.Date[:len(ff.Date.unique())][::4].values )"
      ],
      "execution_count": 0,
      "outputs": [
        {
          "output_type": "stream",
          "text": [
            "['2020-01-22' '2020-01-26' '2020-01-30' '2020-02-03' '2020-02-07'\n",
            " '2020-02-11' '2020-02-15' '2020-02-19' '2020-02-23' '2020-02-27'\n",
            " '2020-03-02' '2020-03-06' '2020-03-10' '2020-03-14' '2020-03-18'\n",
            " '2020-03-22' '2020-03-26' '2020-03-30' '2020-04-03']\n"
          ],
          "name": "stdout"
        }
      ]
    },
    {
      "cell_type": "code",
      "metadata": {
        "id": "_Fy1tBWgyAcv",
        "colab_type": "code",
        "outputId": "e946a2f7-5245-4b2f-a8f3-b5dfb1d5569d",
        "colab": {
          "base_uri": "https://localhost:8080/",
          "height": 434
        }
      },
      "source": [
        "# Simple visualization with sns\n",
        "ee =train[train['Country_Region'].isin([\"US\",'Italy','Spain','Germany','France'])].groupby(['Country_Region','Date',]).sum()\n",
        "ff = ee.reset_index(level=['Country_Region','Date'])\n",
        "g = sns.FacetGrid(ff, hue=\"Country_Region\", height=5, aspect=2,)\n",
        "g.map(plt.plot,  'Date' ,'ConfirmedCases')\n",
        "g.set_xticklabels(rotation =70)\n",
        "g.add_legend()\n",
        "\n",
        "#g.set( xticks = np.arange(10) )  #ff.Date[:len(ff.Date.unique())][::4] \n",
        "\n",
        "#sns.lineplot(x = 'Date', y = 'ConfirmedCases', hue = 'Country_Region',data =ff)"
      ],
      "execution_count": 0,
      "outputs": [
        {
          "output_type": "execute_result",
          "data": {
            "text/plain": [
              "<seaborn.axisgrid.FacetGrid at 0x7f7202d12f60>"
            ]
          },
          "metadata": {
            "tags": []
          },
          "execution_count": 43
        },
        {
          "output_type": "display_data",
          "data": {
            "image/png": "[encoded data removed]",
            "text/plain": [
              "<Figure size 806.625x360 with 1 Axes>"
            ]
          },
          "metadata": {
            "tags": []
          }
        }
      ]
    },
    {
      "cell_type": "code",
      "metadata": {
        "id": "K2oP5NZsqBaN",
        "colab_type": "code",
        "outputId": "ddc991e8-515f-4133-83c0-e0002e16f955",
        "colab": {
          "base_uri": "https://localhost:8080/",
          "height": 476
        }
      },
      "source": [
        "# visulization with matplotlib\n",
        "fig = plt.subplots(figsize = (14,7))\n",
        "plt.plot(date, growdict['cc_US'])\n",
        "plt.xticks(rotation='vertical')\n",
        "import matplotlib as mpl\n",
        "mpl.rcParams['figure.facecolor'] = 'white'\n",
        "plt.show()"
      ],
      "execution_count": 0,
      "outputs": [
        {
          "output_type": "display_data",
          "data": {
            "image/png": "[encoded data removed]",
            "text/plain": [
              "<Figure size 1008x504 with 1 Axes>"
            ]
          },
          "metadata": {
            "tags": []
          }
        }
      ]
    },
    {
      "cell_type": "code",
      "metadata": {
        "id": "zrHcqDPrm69Z",
        "colab_type": "code",
        "colab": {}
      },
      "source": [
        "#TODO: check duplicates,missing numeric, string, typo."
      ],
      "execution_count": 0,
      "outputs": []
    },
    {
      "cell_type": "code",
      "metadata": {
        "id": "_N2X8CFc7uNR",
        "colab_type": "code",
        "colab": {}
      },
      "source": [
        "train['Date'] = pd.to_datetime(train['Date'])\n",
        "test['Date'] = pd.to_datetime(test['Date'])\n",
        "train['Country_Region'] = train['Country_Region'].astype(str)\n",
        "# train['Province_State'] = train['Province_State'].astype(str)\n",
        "test['Country_Region'] = test['Country_Region'].astype(str)\n",
        "# test['Province_State'] = test['Province_State'].astype(str)"
      ],
      "execution_count": 0,
      "outputs": []
    },
    {
      "cell_type": "code",
      "metadata": {
        "id": "Y-oMhQwd72U2",
        "colab_type": "code",
        "colab": {}
      },
      "source": [
        "EMPTY_VAL = \"EMPTY_VAL\"\n",
        "\n",
        "def fillState(state, country):\n",
        "    if state == EMPTY_VAL: return country\n",
        "    return state\n",
        "\n",
        "train['Province_State'].fillna(EMPTY_VAL, inplace=True)\n",
        "train['Province_State'] = train.loc[:, ['Province_State', 'Country_Region']].apply(lambda x : fillState(x['Province_State'], x['Country_Region']), axis=1)\n",
        "\n",
        "test['Province_State'].fillna(EMPTY_VAL, inplace=True)\n",
        "test['Province_State'] = test.loc[:, ['Province_State', 'Country_Region']].apply(lambda x : fillState(x['Province_State'], x['Country_Region']), axis=1)"
      ],
      "execution_count": 0,
      "outputs": []
    },
    {
      "cell_type": "code",
      "metadata": {
        "id": "5dO8RSu18YFk",
        "colab_type": "code",
        "colab": {}
      },
      "source": [
        "le = preprocessing.LabelEncoder()\n",
        "train['country_encoder'] = le.fit_transform(train['Country_Region'])\n",
        "train['date_int'] = train['Date'].apply(lambda x: datetime.strftime(x, '%m%d')).astype(int)\n",
        "\n",
        "test['country_encoder'] = le.transform(test['Country_Region'])\n",
        "test['date_int'] = test['Date'].apply(lambda x: datetime.strftime(x, '%m%d')).astype(int)\n"
      ],
      "execution_count": 0,
      "outputs": []
    },
    {
      "cell_type": "code",
      "metadata": {
        "id": "BOuYsybM8bLr",
        "colab_type": "code",
        "colab": {}
      },
      "source": [
        "train['province_encoder'] = le.fit_transform(train['Province_State'])\n",
        "test['province_encoder'] = le.transform(test['Province_State'])"
      ],
      "execution_count": 0,
      "outputs": []
    },
    {
      "cell_type": "code",
      "metadata": {
        "id": "fPhFy9PK9IUy",
        "colab_type": "code",
        "outputId": "6a4d3642-a76e-4e0c-d087-c6bc88b472fc",
        "colab": {
          "base_uri": "https://localhost:8080/",
          "height": 50
        }
      },
      "source": [
        "# #TODO: create data_generate func\n",
        "start_time = time.time()\n",
        "country = train['Country_Region'].drop_duplicates()\n",
        "train_df = train.copy()\n",
        "train_df.rename(columns={'Date': 'date', 'ConfirmedCases': 'cc_cases', 'Fatalities': 'ft_cases', 'Country_Region': 'country', 'Province_State': 'province'}, inplace=True)\n",
        "lags = np.arange(1,8,1)  # lag of 1 to 7\n",
        "\n",
        "with tqdm(total = len(list(train_df['date'].unique()))) as pbar:\n",
        "    for d in train_df['date'].drop_duplicates():\n",
        "        for i in country:\n",
        "            province = train_df[train_df['country'] == i]['province'].drop_duplicates()\n",
        "            for j in province:\n",
        "                mask = (train_df['date'] == d) & (train_df['country'] == i) & (train_df['province'] == j)            \n",
        "                for lag in lags:\n",
        "                    mask_org = (train_df['date'] == (d - pd.Timedelta(days=lag))) & (train_df['country'] == i) & (train_df['province'] == j)\n",
        "                    try:\n",
        "                        train_df.loc[mask, 'cc_cases_' + str(lag)] = train_df.loc[mask_org, 'cc_cases'].values\n",
        "                    except:\n",
        "                        train_df.loc[mask, 'cc_cases_' + str(lag)] = 0\n",
        "\n",
        "                    try:\n",
        "                        train_df.loc[mask, 'ft_cases_' + str(lag)] = train_df.loc[mask_org, 'ft_cases'].values\n",
        "                    except:\n",
        "                        train_df.loc[mask, 'ft_cases_' + str(lag)] = 0\n",
        "        pbar.update(1)\n",
        "print('Time spent for building features is {} minutes'.format(round((time.time()-start_time)/60,1)))"
      ],
      "execution_count": 0,
      "outputs": [
        {
          "output_type": "stream",
          "text": [
            "100%|██████████| 76/76 [17:42<00:00, 13.98s/it]"
          ],
          "name": "stderr"
        },
        {
          "output_type": "stream",
          "text": [
            "Time spent for building features is 17.7 minutes\n"
          ],
          "name": "stdout"
        },
        {
          "output_type": "stream",
          "text": [
            "\n"
          ],
          "name": "stderr"
        }
      ]
    },
    {
      "cell_type": "code",
      "metadata": {
        "id": "hWjaUnavBgJV",
        "colab_type": "code",
        "colab": {}
      },
      "source": [
        "train_df.to_csv(Path('/content/drive/My Drive/Colab Notebooks/kaggle/covid19_3/', 'train_df.csv'))\n",
        "\n",
        "# saved locally, later reload it "
      ],
      "execution_count": 0,
      "outputs": []
    },
    {
      "cell_type": "code",
      "metadata": {
        "id": "5nZXg7Q38lxR",
        "colab_type": "code",
        "outputId": "0eba2667-b936-459f-a52b-93eee26d2f87",
        "colab": {
          "base_uri": "https://localhost:8080/",
          "height": 531
        }
      },
      "source": [
        "train_df = pd.read_csv(Path('/content/drive/My Drive/Colab Notebooks/kaggle/covid19_3/', 'train_df.csv'), index_col = 0, parse_dates = ['date'])\n",
        "train_df = train_df[train_df['date_int']>=301]  # cut off data after 301 to avoid most majority zeros\n",
        "train_df['weekday'] = train_df['date'].dt.weekday\n",
        "train_df[train_df['country'] == 'Italy'].tail(10)"
      ],
      "execution_count": 0,
      "outputs": [
        {
          "output_type": "execute_result",
          "data": {
            "text/html": [
              "<div>\n",
              "<style scoped>\n",
              "    .dataframe tbody tr th:only-of-type {\n",
              "        vertical-align: middle;\n",
              "    }\n",
              "\n",
              "    .dataframe tbody tr th {\n",
              "        vertical-align: top;\n",
              "    }\n",
              "\n",
              "    .dataframe thead th {\n",
              "        text-align: right;\n",
              "    }\n",
              "</style>\n",
              "<table border=\"1\" class=\"dataframe\">\n",
              "  <thead>\n",
              "    <tr style=\"text-align: right;\">\n",
              "      <th></th>\n",
              "      <th>Id</th>\n",
              "      <th>province</th>\n",
              "      <th>country</th>\n",
              "      <th>date</th>\n",
              "      <th>cc_cases</th>\n",
              "      <th>ft_cases</th>\n",
              "      <th>country_encoder</th>\n",
              "      <th>date_int</th>\n",
              "      <th>province_encoder</th>\n",
              "      <th>cc_cases_1</th>\n",
              "      <th>ft_cases_1</th>\n",
              "      <th>cc_cases_2</th>\n",
              "      <th>ft_cases_2</th>\n",
              "      <th>cc_cases_3</th>\n",
              "      <th>ft_cases_3</th>\n",
              "      <th>cc_cases_4</th>\n",
              "      <th>ft_cases_4</th>\n",
              "      <th>cc_cases_5</th>\n",
              "      <th>ft_cases_5</th>\n",
              "      <th>cc_cases_6</th>\n",
              "      <th>ft_cases_6</th>\n",
              "      <th>cc_cases_7</th>\n",
              "      <th>ft_cases_7</th>\n",
              "      <th>weekday</th>\n",
              "    </tr>\n",
              "  </thead>\n",
              "  <tbody>\n",
              "    <tr>\n",
              "      <th>11086</th>\n",
              "      <td>15582</td>\n",
              "      <td>Italy</td>\n",
              "      <td>Italy</td>\n",
              "      <td>2020-03-28</td>\n",
              "      <td>92472.0</td>\n",
              "      <td>10023.0</td>\n",
              "      <td>84</td>\n",
              "      <td>328</td>\n",
              "      <td>130</td>\n",
              "      <td>86498.0</td>\n",
              "      <td>9134.0</td>\n",
              "      <td>80589.0</td>\n",
              "      <td>8215.0</td>\n",
              "      <td>74386.0</td>\n",
              "      <td>7503.0</td>\n",
              "      <td>69176.0</td>\n",
              "      <td>6820.0</td>\n",
              "      <td>63927.0</td>\n",
              "      <td>6077.0</td>\n",
              "      <td>59138.0</td>\n",
              "      <td>5476.0</td>\n",
              "      <td>53578.0</td>\n",
              "      <td>4825.0</td>\n",
              "      <td>5</td>\n",
              "    </tr>\n",
              "    <tr>\n",
              "      <th>11087</th>\n",
              "      <td>15583</td>\n",
              "      <td>Italy</td>\n",
              "      <td>Italy</td>\n",
              "      <td>2020-03-29</td>\n",
              "      <td>97689.0</td>\n",
              "      <td>10779.0</td>\n",
              "      <td>84</td>\n",
              "      <td>329</td>\n",
              "      <td>130</td>\n",
              "      <td>92472.0</td>\n",
              "      <td>10023.0</td>\n",
              "      <td>86498.0</td>\n",
              "      <td>9134.0</td>\n",
              "      <td>80589.0</td>\n",
              "      <td>8215.0</td>\n",
              "      <td>74386.0</td>\n",
              "      <td>7503.0</td>\n",
              "      <td>69176.0</td>\n",
              "      <td>6820.0</td>\n",
              "      <td>63927.0</td>\n",
              "      <td>6077.0</td>\n",
              "      <td>59138.0</td>\n",
              "      <td>5476.0</td>\n",
              "      <td>6</td>\n",
              "    </tr>\n",
              "    <tr>\n",
              "      <th>11088</th>\n",
              "      <td>15584</td>\n",
              "      <td>Italy</td>\n",
              "      <td>Italy</td>\n",
              "      <td>2020-03-30</td>\n",
              "      <td>101739.0</td>\n",
              "      <td>11591.0</td>\n",
              "      <td>84</td>\n",
              "      <td>330</td>\n",
              "      <td>130</td>\n",
              "      <td>97689.0</td>\n",
              "      <td>10779.0</td>\n",
              "      <td>92472.0</td>\n",
              "      <td>10023.0</td>\n",
              "      <td>86498.0</td>\n",
              "      <td>9134.0</td>\n",
              "      <td>80589.0</td>\n",
              "      <td>8215.0</td>\n",
              "      <td>74386.0</td>\n",
              "      <td>7503.0</td>\n",
              "      <td>69176.0</td>\n",
              "      <td>6820.0</td>\n",
              "      <td>63927.0</td>\n",
              "      <td>6077.0</td>\n",
              "      <td>0</td>\n",
              "    </tr>\n",
              "    <tr>\n",
              "      <th>11089</th>\n",
              "      <td>15585</td>\n",
              "      <td>Italy</td>\n",
              "      <td>Italy</td>\n",
              "      <td>2020-03-31</td>\n",
              "      <td>105792.0</td>\n",
              "      <td>12428.0</td>\n",
              "      <td>84</td>\n",
              "      <td>331</td>\n",
              "      <td>130</td>\n",
              "      <td>101739.0</td>\n",
              "      <td>11591.0</td>\n",
              "      <td>97689.0</td>\n",
              "      <td>10779.0</td>\n",
              "      <td>92472.0</td>\n",
              "      <td>10023.0</td>\n",
              "      <td>86498.0</td>\n",
              "      <td>9134.0</td>\n",
              "      <td>80589.0</td>\n",
              "      <td>8215.0</td>\n",
              "      <td>74386.0</td>\n",
              "      <td>7503.0</td>\n",
              "      <td>69176.0</td>\n",
              "      <td>6820.0</td>\n",
              "      <td>1</td>\n",
              "    </tr>\n",
              "    <tr>\n",
              "      <th>11090</th>\n",
              "      <td>15586</td>\n",
              "      <td>Italy</td>\n",
              "      <td>Italy</td>\n",
              "      <td>2020-04-01</td>\n",
              "      <td>110574.0</td>\n",
              "      <td>13155.0</td>\n",
              "      <td>84</td>\n",
              "      <td>401</td>\n",
              "      <td>130</td>\n",
              "      <td>105792.0</td>\n",
              "      <td>12428.0</td>\n",
              "      <td>101739.0</td>\n",
              "      <td>11591.0</td>\n",
              "      <td>97689.0</td>\n",
              "      <td>10779.0</td>\n",
              "      <td>92472.0</td>\n",
              "      <td>10023.0</td>\n",
              "      <td>86498.0</td>\n",
              "      <td>9134.0</td>\n",
              "      <td>80589.0</td>\n",
              "      <td>8215.0</td>\n",
              "      <td>74386.0</td>\n",
              "      <td>7503.0</td>\n",
              "      <td>2</td>\n",
              "    </tr>\n",
              "    <tr>\n",
              "      <th>11091</th>\n",
              "      <td>15587</td>\n",
              "      <td>Italy</td>\n",
              "      <td>Italy</td>\n",
              "      <td>2020-04-02</td>\n",
              "      <td>115242.0</td>\n",
              "      <td>13915.0</td>\n",
              "      <td>84</td>\n",
              "      <td>402</td>\n",
              "      <td>130</td>\n",
              "      <td>110574.0</td>\n",
              "      <td>13155.0</td>\n",
              "      <td>105792.0</td>\n",
              "      <td>12428.0</td>\n",
              "      <td>101739.0</td>\n",
              "      <td>11591.0</td>\n",
              "      <td>97689.0</td>\n",
              "      <td>10779.0</td>\n",
              "      <td>92472.0</td>\n",
              "      <td>10023.0</td>\n",
              "      <td>86498.0</td>\n",
              "      <td>9134.0</td>\n",
              "      <td>80589.0</td>\n",
              "      <td>8215.0</td>\n",
              "      <td>3</td>\n",
              "    </tr>\n",
              "    <tr>\n",
              "      <th>11092</th>\n",
              "      <td>15588</td>\n",
              "      <td>Italy</td>\n",
              "      <td>Italy</td>\n",
              "      <td>2020-04-03</td>\n",
              "      <td>119827.0</td>\n",
              "      <td>14681.0</td>\n",
              "      <td>84</td>\n",
              "      <td>403</td>\n",
              "      <td>130</td>\n",
              "      <td>115242.0</td>\n",
              "      <td>13915.0</td>\n",
              "      <td>110574.0</td>\n",
              "      <td>13155.0</td>\n",
              "      <td>105792.0</td>\n",
              "      <td>12428.0</td>\n",
              "      <td>101739.0</td>\n",
              "      <td>11591.0</td>\n",
              "      <td>97689.0</td>\n",
              "      <td>10779.0</td>\n",
              "      <td>92472.0</td>\n",
              "      <td>10023.0</td>\n",
              "      <td>86498.0</td>\n",
              "      <td>9134.0</td>\n",
              "      <td>4</td>\n",
              "    </tr>\n",
              "    <tr>\n",
              "      <th>11093</th>\n",
              "      <td>15589</td>\n",
              "      <td>Italy</td>\n",
              "      <td>Italy</td>\n",
              "      <td>2020-04-04</td>\n",
              "      <td>124632.0</td>\n",
              "      <td>15362.0</td>\n",
              "      <td>84</td>\n",
              "      <td>404</td>\n",
              "      <td>130</td>\n",
              "      <td>119827.0</td>\n",
              "      <td>14681.0</td>\n",
              "      <td>115242.0</td>\n",
              "      <td>13915.0</td>\n",
              "      <td>110574.0</td>\n",
              "      <td>13155.0</td>\n",
              "      <td>105792.0</td>\n",
              "      <td>12428.0</td>\n",
              "      <td>101739.0</td>\n",
              "      <td>11591.0</td>\n",
              "      <td>97689.0</td>\n",
              "      <td>10779.0</td>\n",
              "      <td>92472.0</td>\n",
              "      <td>10023.0</td>\n",
              "      <td>5</td>\n",
              "    </tr>\n",
              "    <tr>\n",
              "      <th>11094</th>\n",
              "      <td>15590</td>\n",
              "      <td>Italy</td>\n",
              "      <td>Italy</td>\n",
              "      <td>2020-04-05</td>\n",
              "      <td>128948.0</td>\n",
              "      <td>15887.0</td>\n",
              "      <td>84</td>\n",
              "      <td>405</td>\n",
              "      <td>130</td>\n",
              "      <td>124632.0</td>\n",
              "      <td>15362.0</td>\n",
              "      <td>119827.0</td>\n",
              "      <td>14681.0</td>\n",
              "      <td>115242.0</td>\n",
              "      <td>13915.0</td>\n",
              "      <td>110574.0</td>\n",
              "      <td>13155.0</td>\n",
              "      <td>105792.0</td>\n",
              "      <td>12428.0</td>\n",
              "      <td>101739.0</td>\n",
              "      <td>11591.0</td>\n",
              "      <td>97689.0</td>\n",
              "      <td>10779.0</td>\n",
              "      <td>6</td>\n",
              "    </tr>\n",
              "    <tr>\n",
              "      <th>11095</th>\n",
              "      <td>15591</td>\n",
              "      <td>Italy</td>\n",
              "      <td>Italy</td>\n",
              "      <td>2020-04-06</td>\n",
              "      <td>132547.0</td>\n",
              "      <td>16523.0</td>\n",
              "      <td>84</td>\n",
              "      <td>406</td>\n",
              "      <td>130</td>\n",
              "      <td>128948.0</td>\n",
              "      <td>15887.0</td>\n",
              "      <td>124632.0</td>\n",
              "      <td>15362.0</td>\n",
              "      <td>119827.0</td>\n",
              "      <td>14681.0</td>\n",
              "      <td>115242.0</td>\n",
              "      <td>13915.0</td>\n",
              "      <td>110574.0</td>\n",
              "      <td>13155.0</td>\n",
              "      <td>105792.0</td>\n",
              "      <td>12428.0</td>\n",
              "      <td>101739.0</td>\n",
              "      <td>11591.0</td>\n",
              "      <td>0</td>\n",
              "    </tr>\n",
              "  </tbody>\n",
              "</table>\n",
              "</div>"
            ],
            "text/plain": [
              "          Id province country  ... cc_cases_7  ft_cases_7  weekday\n",
              "11086  15582    Italy   Italy  ...    53578.0      4825.0        5\n",
              "11087  15583    Italy   Italy  ...    59138.0      5476.0        6\n",
              "11088  15584    Italy   Italy  ...    63927.0      6077.0        0\n",
              "11089  15585    Italy   Italy  ...    69176.0      6820.0        1\n",
              "11090  15586    Italy   Italy  ...    74386.0      7503.0        2\n",
              "11091  15587    Italy   Italy  ...    80589.0      8215.0        3\n",
              "11092  15588    Italy   Italy  ...    86498.0      9134.0        4\n",
              "11093  15589    Italy   Italy  ...    92472.0     10023.0        5\n",
              "11094  15590    Italy   Italy  ...    97689.0     10779.0        6\n",
              "11095  15591    Italy   Italy  ...   101739.0     11591.0        0\n",
              "\n",
              "[10 rows x 24 columns]"
            ]
          },
          "metadata": {
            "tags": []
          },
          "execution_count": 51
        }
      ]
    },
    {
      "cell_type": "code",
      "metadata": {
        "id": "9xixEL_xC5PN",
        "colab_type": "code",
        "colab": {}
      },
      "source": [
        ""
      ],
      "execution_count": 0,
      "outputs": []
    },
    {
      "cell_type": "markdown",
      "metadata": {
        "id": "gP8QwZL7C_ln",
        "colab_type": "text"
      },
      "source": [
        "# LSTM model"
      ]
    },
    {
      "cell_type": "code",
      "metadata": {
        "id": "s-RPYurxDBbl",
        "colab_type": "code",
        "colab": {}
      },
      "source": [
        "#TODO: walk forward validation\n",
        "def split_train_val(df, val_ratio):\n",
        "    val_len = int(len(df) * val_ratio)\n",
        "    train_set =  df[:-val_len]\n",
        "    val_set = df[-val_len:]\n",
        "    return train_set, val_set"
      ],
      "execution_count": 0,
      "outputs": []
    },
    {
      "cell_type": "code",
      "metadata": {
        "id": "YegY3hRJDIRJ",
        "colab_type": "code",
        "outputId": "fa1ca157-9287-42b0-a475-504afd3e118b",
        "colab": {
          "base_uri": "https://localhost:8080/",
          "height": 70
        }
      },
      "source": [
        "test_fixed_cols = ['ForecastId', 'Province_State', 'Country_Region', 'Date']\n",
        "fixed_cols = ['Id', 'province', 'country', 'date']\n",
        "output_cols = ['cc_cases', 'ft_cases']\n",
        "input_cols = list(set(train_df.columns.to_list()) - set(fixed_cols) - set(output_cols))\n",
        "print('output columns are ', output_cols)\n",
        "print('input columns are ', input_cols)\n",
        "X = train_df[input_cols]\n",
        "y = train_df[output_cols]"
      ],
      "execution_count": 0,
      "outputs": [
        {
          "output_type": "stream",
          "text": [
            "output columns are  ['cc_cases', 'ft_cases']\n",
            "input columns are  ['ft_cases_5', 'cc_cases_4', 'ft_cases_6', 'cc_cases_5', 'cc_cases_7', 'cc_cases_3', 'weekday', 'province_encoder', 'date_int', 'ft_cases_2', 'ft_cases_1', 'cc_cases_1', 'country_encoder', 'ft_cases_4', 'ft_cases_7', 'ft_cases_3', 'cc_cases_6', 'cc_cases_2']\n"
          ],
          "name": "stdout"
        }
      ]
    },
    {
      "cell_type": "code",
      "metadata": {
        "id": "CQimO-bfDKcI",
        "colab_type": "code",
        "colab": {}
      },
      "source": [
        "# split to cumulative and fatal features and build 2 separate models\n",
        "# split to train and validation set\n",
        "cc_input = ['country_encoder', 'province_encoder', 'weekday', 'date_int','cc_cases_1', 'cc_cases_2', 'cc_cases_3', 'cc_cases_4', 'cc_cases_5', 'cc_cases_6', 'cc_cases_7'] # 'cc_cases_1', cc_cases_2', 'cc_cases_3', 'cc_cases_4', 'cc_cases_5', 'cc_cases_6', 'cc_cases_7', 'country_encoder', 'province_encoder', 'weekday' \n",
        "ft_input = ['country_encoder', 'province_encoder', 'weekday' , 'date_int', 'ft_cases_1', 'ft_cases_2', 'ft_cases_3', 'ft_cases_4', 'ft_cases_5', 'ft_cases_6', 'ft_cases_7'] #['ft_cases_1', 'ft_cases_2', 'ft_cases_3', 'ft_cases_4', 'ft_cases_5', 'ft_cases_6', 'ft_cases_7', 'country_encoder', 'province_encoder', 'weekday' \n",
        "cc_output = ['cc_cases']\n",
        "ft_output = ['ft_cases']\n",
        "val_ratio = 0.05\n",
        "X_cc = X[cc_input]\n",
        "X_ft = X[ft_input]\n",
        "y_cc = y[cc_output]\n",
        "y_ft = y[ft_output]\n",
        "train_X_cc, val_X_cc = split_train_val(df = X_cc, val_ratio = val_ratio)\n",
        "train_y_cc, val_y_cc = split_train_val(df = y_cc, val_ratio = val_ratio)\n",
        "train_X_ft, val_X_ft = split_train_val(df = X_ft, val_ratio = val_ratio)\n",
        "train_y_ft, val_y_ft = split_train_val(df = y_ft, val_ratio = val_ratio)"
      ],
      "execution_count": 0,
      "outputs": []
    },
    {
      "cell_type": "code",
      "metadata": {
        "id": "fbuDgesLDOZv",
        "colab_type": "code",
        "colab": {}
      },
      "source": [
        "idx = np.random.RandomState(seed=123).permutation(train_X_cc.index) \n",
        "train_X_cc = train_X_cc.reindex(idx) \n",
        "train_y_cc = train_y_cc.reindex(idx) \n",
        "train_X_ft = train_X_ft.reindex(idx) \n",
        "train_y_ft = train_y_ft.reindex(idx) # train_y_cc.tail()"
      ],
      "execution_count": 0,
      "outputs": []
    },
    {
      "cell_type": "code",
      "metadata": {
        "id": "00boPWrPDs-m",
        "colab_type": "code",
        "colab": {}
      },
      "source": [
        "# normalization\n",
        "normalize = False\n",
        "\n",
        "if normalize ==True:\n",
        "  \n",
        "  X_scaler_cc = MinMaxScaler()\n",
        "  X_train_cc = X_scaler_cc.fit_transform(train_X_cc)\n",
        "  X_val_cc =  X_scaler_cc.transform(val_X_cc) # intput/output 2D array-like\n",
        "\n",
        "  y_scaler_cc = MinMaxScaler()\n",
        "  y_train_cc = y_scaler_cc.fit_transform(train_y_cc)\n",
        "  y_val_cc = y_scaler_cc.transform(val_y_cc) # array-like\n",
        "\n",
        "  X_scaler_ft = MinMaxScaler()\n",
        "  X_train_ft = X_scaler_ft.fit_transform(train_X_ft)\n",
        "  X_val_ft =  X_scaler_ft.transform(val_X_ft) # intput/output 2D array-like\n",
        "\n",
        "  y_scaler_ft = MinMaxScaler()\n",
        "  y_train_ft = y_scaler_ft.fit_transform(train_y_ft)\n",
        "  y_val_ft = y_scaler_ft.transform(val_y_ft) # array-like\n",
        "\n",
        "else:\n",
        "  # if choose to not apply normalization, however it generates NaN in output...\n",
        "  X_train_cc = train_X_cc.to_numpy()  \n",
        "  X_val_cc = val_X_cc.to_numpy()\n",
        "  X_train_ft = train_X_ft.to_numpy()\n",
        "  X_val_ft = val_X_ft.to_numpy()\n",
        "\n",
        "  y_train_cc = train_y_cc.to_numpy()\n",
        "  y_val_cc = val_y_cc.to_numpy()\n",
        "  y_train_ft = train_y_ft.to_numpy()\n",
        "  y_val_ft = val_y_ft.to_numpy()"
      ],
      "execution_count": 0,
      "outputs": []
    },
    {
      "cell_type": "code",
      "metadata": {
        "id": "Z69w04wjD2SJ",
        "colab_type": "code",
        "outputId": "2026517d-0dc2-4e10-908e-7f13f351751e",
        "colab": {
          "base_uri": "https://localhost:8080/",
          "height": 118
        }
      },
      "source": [
        "print('Validate if train and test is splited correctly for 2 cases: ')\n",
        "print('cumulative cases training has shape ', X_train_cc.shape, y_train_cc.shape)\n",
        "print('fatal cases training has shape ', X_train_ft.shape, y_train_ft.shape)\n",
        "print('cumulative cases valid has shape ', X_val_cc.shape, y_val_cc.shape)\n",
        "print('fatal cases valid has shape ', X_val_ft.shape, y_val_ft.shape)\n",
        "#TODO\n",
        "print('Validate if train and test contains np.nan, np.inf, -np.inf after standardization: ')"
      ],
      "execution_count": 0,
      "outputs": [
        {
          "output_type": "stream",
          "text": [
            "Validate if train and test is splited correctly for 2 cases: \n",
            "cumulative cases training has shape  (10756, 11) (10756, 1)\n",
            "fatal cases training has shape  (10756, 11) (10756, 1)\n",
            "cumulative cases valid has shape  (566, 11) (566, 1)\n",
            "fatal cases valid has shape  (566, 11) (566, 1)\n",
            "Validate if train and test contains np.nan, np.inf, -np.inf after standardization: \n"
          ],
          "name": "stdout"
        }
      ]
    },
    {
      "cell_type": "code",
      "metadata": {
        "id": "qGV9FpU-D6C7",
        "colab_type": "code",
        "outputId": "0e39bc60-d64e-46e7-db51-3a6d96f7bcb0",
        "colab": {
          "base_uri": "https://localhost:8080/",
          "height": 34
        }
      },
      "source": [
        "# for LSTM, intput.shape = (n_samples, 1, n_features)\n",
        "X_train_cc = X_train_cc.reshape(X_train_cc.shape[0], 1, X_train_cc.shape[1])\n",
        "X_val_cc = X_val_cc.reshape(X_val_cc.shape[0], 1, X_val_cc.shape[1])\n",
        "\n",
        "X_train_ft = X_train_ft.reshape(X_train_ft.shape[0], 1, X_train_ft.shape[1])\n",
        "X_val_ft = X_val_ft.reshape(X_val_ft.shape[0], 1, X_val_ft.shape[1])\n",
        "print(X_train_cc.shape, X_val_cc.shape, X_train_ft.shape, X_val_ft.shape)"
      ],
      "execution_count": 0,
      "outputs": [
        {
          "output_type": "stream",
          "text": [
            "(10756, 1, 11) (566, 1, 11) (10756, 1, 11) (566, 1, 11)\n"
          ],
          "name": "stdout"
        }
      ]
    },
    {
      "cell_type": "code",
      "metadata": {
        "id": "mAyztczMEDtX",
        "colab_type": "code",
        "outputId": "51c3ce6f-fdbb-4cc6-f6b5-7a7237a9bd93",
        "colab": {
          "base_uri": "https://localhost:8080/",
          "height": 235
        }
      },
      "source": [
        "X_train_cc"
      ],
      "execution_count": 0,
      "outputs": [
        {
          "output_type": "execute_result",
          "data": {
            "text/plain": [
              "array([[[ 32., 196.,   0., ...,   0.,   0.,   0.]],\n",
              "\n",
              "       [[  8., 204.,   1., ...,   0.,   0.,   0.]],\n",
              "\n",
              "       [[ 98., 150.,   6., ...,   0.,   0.,   0.]],\n",
              "\n",
              "       ...,\n",
              "\n",
              "       [[ 80., 125.,   0., ..., 139.,  95.,  61.]],\n",
              "\n",
              "       [[ 29.,  41.,   6., ...,   0.,   0.,   0.]],\n",
              "\n",
              "       [[ 46.,  78.,   1., ..., 140., 132., 122.]]])"
            ]
          },
          "metadata": {
            "tags": []
          },
          "execution_count": 59
        }
      ]
    },
    {
      "cell_type": "code",
      "metadata": {
        "id": "l9x1J9JHEGx7",
        "colab_type": "code",
        "colab": {}
      },
      "source": [
        "# customize loss function which is aligned with kaggle evaluation\n",
        "def root_mean_squared_log_error(y_true, y_pred):\n",
        "    return K.sqrt(K.mean(K.square(K.log(y_pred + 1) - K.log(y_true + 1)))) "
      ],
      "execution_count": 0,
      "outputs": []
    },
    {
      "cell_type": "code",
      "metadata": {
        "id": "8J1J8uBcEOz5",
        "colab_type": "code",
        "colab": {}
      },
      "source": [
        "#declaring only one model\n",
        "def LSTM_model(n_1, input_dim, output_dim):\n",
        "    model = Sequential()\n",
        "    model.add(LSTM(n_1,input_shape=(1, input_dim), activation='relu'))\n",
        "    # model.add(LSTM(n_2, activation='relu'))\n",
        "    model.add(Dense(output_dim, activation='relu'))\n",
        "    # adam = optimizers.Adam(learning_rate=0.01, beta_1=0.9, beta_2=0.999, amsgrad=False)\n",
        "    model.compile(loss=root_mean_squared_log_error, optimizer='adam',metrics = ['accuracy'])\n",
        "    # print(model.summary())\n",
        "    return model"
      ],
      "execution_count": 0,
      "outputs": []
    },
    {
      "cell_type": "code",
      "metadata": {
        "id": "g2UKIlDdEUSK",
        "colab_type": "code",
        "colab": {}
      },
      "source": [
        "K.clear_session()   \n",
        "model_cc = LSTM_model(4, X_train_cc.shape[-1], y_train_cc.shape[-1])\n",
        "model_ft = LSTM_model(4, X_train_ft.shape[-1], y_train_ft.shape[-1])\n",
        "early_stop_cc = EarlyStopping(monitor='val_loss', patience=5, verbose=1, min_delta =0.001, mode='min')\n",
        "early_stop_ft = EarlyStopping(monitor='val_loss', patience=5, verbose=1, mode='min')"
      ],
      "execution_count": 0,
      "outputs": []
    },
    {
      "cell_type": "code",
      "metadata": {
        "id": "uhK7tdn8EWep",
        "colab_type": "code",
        "outputId": "b1e76351-ac1a-4df1-b2bd-115e5ce99ae8",
        "colab": {
          "base_uri": "https://localhost:8080/",
          "height": 739
        }
      },
      "source": [
        "#TODO: debug sometimes it's getting inf. Suspect bad input\n",
        "print('Start model training')\n",
        "start_time = time.time()\n",
        "history_cc = model_cc.fit(X_train_cc, y_train_cc, batch_size = 16, epochs = 100,validation_data = (X_val_cc, y_val_cc), verbose = 2, callbacks=[early_stop_cc])\n",
        "model_cc.save(\"model_cc.h5\")\n",
        "print('Time spent for model training is {} minutes'.format(round((time.time()-start_time)/60,1)))"
      ],
      "execution_count": 0,
      "outputs": [
        {
          "output_type": "stream",
          "text": [
            "Start model training\n",
            "Train on 10756 samples, validate on 566 samples\n",
            "Epoch 1/100\n",
            " - 3s - loss: 4.2981 - accuracy: 0.1822 - val_loss: 2.5589 - val_accuracy: 0.0565\n",
            "Epoch 2/100\n",
            " - 2s - loss: 4.0373 - accuracy: 0.0564 - val_loss: 2.4339 - val_accuracy: 0.0565\n",
            "Epoch 3/100\n",
            " - 2s - loss: 3.2607 - accuracy: 0.0557 - val_loss: 1.3734 - val_accuracy: 0.0159\n",
            "Epoch 4/100\n",
            " - 2s - loss: 0.7847 - accuracy: 0.0353 - val_loss: 0.5582 - val_accuracy: 0.0795\n",
            "Epoch 5/100\n",
            " - 2s - loss: 0.4650 - accuracy: 0.0799 - val_loss: 0.4389 - val_accuracy: 0.1095\n",
            "Epoch 6/100\n",
            " - 2s - loss: 0.3503 - accuracy: 0.0982 - val_loss: 0.3285 - val_accuracy: 0.1201\n",
            "Epoch 7/100\n",
            " - 2s - loss: 0.2694 - accuracy: 0.2703 - val_loss: 0.2412 - val_accuracy: 0.4276\n",
            "Epoch 8/100\n",
            " - 2s - loss: 0.2346 - accuracy: 0.2961 - val_loss: 0.2300 - val_accuracy: 0.4470\n",
            "Epoch 9/100\n",
            " - 2s - loss: 0.2284 - accuracy: 0.3042 - val_loss: 0.2027 - val_accuracy: 0.4647\n",
            "Epoch 10/100\n",
            " - 2s - loss: 0.2266 - accuracy: 0.3104 - val_loss: 0.1947 - val_accuracy: 0.4576\n",
            "Epoch 11/100\n",
            " - 2s - loss: 0.2151 - accuracy: 0.3201 - val_loss: 0.3007 - val_accuracy: 0.1749\n",
            "Epoch 12/100\n",
            " - 2s - loss: 0.2153 - accuracy: 0.3171 - val_loss: 0.2352 - val_accuracy: 0.4081\n",
            "Epoch 13/100\n",
            " - 2s - loss: 0.2214 - accuracy: 0.3106 - val_loss: 0.1972 - val_accuracy: 0.4647\n",
            "Epoch 14/100\n",
            " - 2s - loss: 0.2157 - accuracy: 0.3098 - val_loss: 0.2303 - val_accuracy: 0.4205\n",
            "Epoch 15/100\n",
            " - 2s - loss: 0.2201 - accuracy: 0.3067 - val_loss: 0.1907 - val_accuracy: 0.4594\n",
            "Epoch 16/100\n",
            " - 2s - loss: 0.2129 - accuracy: 0.3142 - val_loss: 0.2076 - val_accuracy: 0.4700\n",
            "Epoch 17/100\n",
            " - 2s - loss: 0.2108 - accuracy: 0.3167 - val_loss: 0.1956 - val_accuracy: 0.4753\n",
            "Epoch 18/100\n",
            " - 2s - loss: 0.2151 - accuracy: 0.3161 - val_loss: 0.2281 - val_accuracy: 0.4258\n",
            "Epoch 19/100\n",
            " - 2s - loss: 0.2136 - accuracy: 0.3167 - val_loss: 0.1975 - val_accuracy: 0.4417\n",
            "Epoch 20/100\n",
            " - 2s - loss: 0.2182 - accuracy: 0.3109 - val_loss: 0.1974 - val_accuracy: 0.4859\n",
            "Time spent for model training is 0.8 minutes\n"
          ],
          "name": "stdout"
        }
      ]
    },
    {
      "cell_type": "code",
      "metadata": {
        "id": "7U6uiuOwEpCm",
        "colab_type": "code",
        "outputId": "6cf8fed2-f688-4f76-ccc1-942cf3f0c7e5",
        "colab": {
          "base_uri": "https://localhost:8080/",
          "height": 350
        }
      },
      "source": [
        "# Plot training & validation loss values\n",
        "plt.figure(figsize=(8,5))\n",
        "plt.plot(history_cc.history['loss'])\n",
        "plt.plot(history_cc.history['val_loss'])\n",
        "plt.title('CC Model loss')\n",
        "plt.ylabel('Loss')\n",
        "plt.xlabel('Epoch')\n",
        "plt.legend(['Train', 'Test'], loc='upper left')\n",
        "plt.show()"
      ],
      "execution_count": 0,
      "outputs": [
        {
          "output_type": "display_data",
          "data": {
            "image/png": "[encoded data removed]",
            "text/plain": [
              "<Figure size 576x360 with 1 Axes>"
            ]
          },
          "metadata": {
            "tags": []
          }
        }
      ]
    },
    {
      "cell_type": "code",
      "metadata": {
        "id": "FgD97t8EKvc_",
        "colab_type": "code",
        "outputId": "04d180ec-ad34-47dc-dec0-6b8ebc7e4310",
        "colab": {
          "base_uri": "https://localhost:8080/",
          "height": 353
        }
      },
      "source": [
        "# Validate if output makes sense\n",
        "yhat_val_cc = model_cc.predict(X_val_cc)\n",
        "print(yhat_val_cc[50:70])"
      ],
      "execution_count": 0,
      "outputs": [
        {
          "output_type": "stream",
          "text": [
            "[[0.04163239]\n",
            " [0.04163239]\n",
            " [0.04163239]\n",
            " [0.04163239]\n",
            " [0.04163239]\n",
            " [0.04163239]\n",
            " [0.04163239]\n",
            " [0.04163239]\n",
            " [0.04163239]\n",
            " [0.04163239]\n",
            " [0.04163239]\n",
            " [0.8951616 ]\n",
            " [1.0913134 ]\n",
            " [1.0095478 ]\n",
            " [0.9993126 ]\n",
            " [0.85264534]\n",
            " [0.8925109 ]\n",
            " [3.085894  ]\n",
            " [3.4785779 ]\n",
            " [3.317791  ]]\n"
          ],
          "name": "stdout"
        }
      ]
    },
    {
      "cell_type": "code",
      "metadata": {
        "id": "simtM2QHK0Ax",
        "colab_type": "code",
        "outputId": "31c740e4-143b-4eaa-a154-440c4b8fdf70",
        "colab": {
          "base_uri": "https://localhost:8080/",
          "height": 370
        }
      },
      "source": [
        "print(val_y_cc[50:70])"
      ],
      "execution_count": 0,
      "outputs": [
        {
          "output_type": "stream",
          "text": [
            "       cc_cases\n",
            "22233       0.0\n",
            "22234       0.0\n",
            "22235       0.0\n",
            "22236       0.0\n",
            "22237       0.0\n",
            "22238       0.0\n",
            "22239       0.0\n",
            "22240       0.0\n",
            "22241       0.0\n",
            "22242       0.0\n",
            "22243       1.0\n",
            "22244       1.0\n",
            "22245       1.0\n",
            "22246       1.0\n",
            "22247       1.0\n",
            "22248       1.0\n",
            "22249       3.0\n",
            "22250       3.0\n",
            "22251       3.0\n",
            "22252       3.0\n"
          ],
          "name": "stdout"
        }
      ]
    },
    {
      "cell_type": "code",
      "metadata": {
        "id": "7ThKS5RcjDe6",
        "colab_type": "code",
        "outputId": "c22feacf-34ad-43ad-8273-519ac6ead68f",
        "colab": {
          "base_uri": "https://localhost:8080/",
          "height": 958
        }
      },
      "source": [
        "early_stop_ft = EarlyStopping(monitor='val_loss', min_delta=0.001, patience=5, verbose=1, mode='min')\n",
        "\n",
        "print('Start model training')\n",
        "start_time = time.time()\n",
        "history_ft = model_ft.fit(X_train_ft, y_train_ft, batch_size = 16, epochs = 100,validation_data = (X_val_ft, y_val_ft), verbose = 2, callbacks=[early_stop_ft])\n",
        "model_ft.save(\"model_ft.h5\")\n",
        "print('Time spent for model training is {} minutes'.format(round((time.time()-start_time)/60,1)))"
      ],
      "execution_count": 0,
      "outputs": [
        {
          "output_type": "stream",
          "text": [
            "Start model training\n",
            "Train on 10756 samples, validate on 566 samples\n",
            "Epoch 1/100\n",
            " - 3s - loss: 1.1667 - accuracy: 0.3514 - val_loss: 0.3790 - val_accuracy: 0.7774\n",
            "Epoch 2/100\n",
            " - 2s - loss: 0.6183 - accuracy: 0.5868 - val_loss: 0.3775 - val_accuracy: 0.7562\n",
            "Epoch 3/100\n",
            " - 2s - loss: 0.5117 - accuracy: 0.5979 - val_loss: 0.3016 - val_accuracy: 0.7933\n",
            "Epoch 4/100\n",
            " - 2s - loss: 0.3350 - accuracy: 0.6315 - val_loss: 0.1949 - val_accuracy: 0.7880\n",
            "Epoch 5/100\n",
            " - 2s - loss: 0.2419 - accuracy: 0.6539 - val_loss: 0.1602 - val_accuracy: 0.8021\n",
            "Epoch 6/100\n",
            " - 2s - loss: 0.2095 - accuracy: 0.6711 - val_loss: 0.1346 - val_accuracy: 0.8269\n",
            "Epoch 7/100\n",
            " - 2s - loss: 0.1805 - accuracy: 0.6962 - val_loss: 0.1293 - val_accuracy: 0.8445\n",
            "Epoch 8/100\n",
            " - 2s - loss: 0.1614 - accuracy: 0.7254 - val_loss: 0.1028 - val_accuracy: 0.8799\n",
            "Epoch 9/100\n",
            " - 2s - loss: 0.1484 - accuracy: 0.7519 - val_loss: 0.0976 - val_accuracy: 0.8869\n",
            "Epoch 10/100\n",
            " - 2s - loss: 0.1442 - accuracy: 0.7573 - val_loss: 0.1047 - val_accuracy: 0.8799\n",
            "Epoch 11/100\n",
            " - 2s - loss: 0.1422 - accuracy: 0.7618 - val_loss: 0.0989 - val_accuracy: 0.8887\n",
            "Epoch 12/100\n",
            " - 2s - loss: 0.1383 - accuracy: 0.7661 - val_loss: 0.0971 - val_accuracy: 0.8869\n",
            "Epoch 13/100\n",
            " - 2s - loss: 0.1387 - accuracy: 0.7658 - val_loss: 0.0923 - val_accuracy: 0.8975\n",
            "Epoch 14/100\n",
            " - 2s - loss: 0.1381 - accuracy: 0.7660 - val_loss: 0.0930 - val_accuracy: 0.8975\n",
            "Epoch 15/100\n",
            " - 2s - loss: 0.1357 - accuracy: 0.7681 - val_loss: 0.0910 - val_accuracy: 0.8975\n",
            "Epoch 16/100\n",
            " - 2s - loss: 0.1354 - accuracy: 0.7678 - val_loss: 0.0950 - val_accuracy: 0.8922\n",
            "Epoch 17/100\n",
            " - 2s - loss: 0.1338 - accuracy: 0.7705 - val_loss: 0.0977 - val_accuracy: 0.8834\n",
            "Epoch 18/100\n",
            " - 2s - loss: 0.1328 - accuracy: 0.7704 - val_loss: 0.0908 - val_accuracy: 0.8940\n",
            "Epoch 19/100\n",
            " - 2s - loss: 0.1333 - accuracy: 0.7692 - val_loss: 0.0895 - val_accuracy: 0.8940\n",
            "Epoch 20/100\n",
            " - 2s - loss: 0.1330 - accuracy: 0.7708 - val_loss: 0.0893 - val_accuracy: 0.8940\n",
            "Epoch 21/100\n",
            " - 2s - loss: 0.1311 - accuracy: 0.7719 - val_loss: 0.0884 - val_accuracy: 0.8940\n",
            "Epoch 22/100\n",
            " - 2s - loss: 0.1336 - accuracy: 0.7689 - val_loss: 0.0887 - val_accuracy: 0.8993\n",
            "Epoch 23/100\n",
            " - 2s - loss: 0.1312 - accuracy: 0.7729 - val_loss: 0.1929 - val_accuracy: 0.8551\n",
            "Epoch 24/100\n",
            " - 2s - loss: 0.1308 - accuracy: 0.7720 - val_loss: 0.0882 - val_accuracy: 0.8922\n",
            "Epoch 25/100\n",
            " - 2s - loss: 0.1304 - accuracy: 0.7756 - val_loss: 0.0941 - val_accuracy: 0.8940\n",
            "Epoch 26/100\n",
            " - 2s - loss: 0.1297 - accuracy: 0.7707 - val_loss: 0.0920 - val_accuracy: 0.8940\n",
            "Epoch 00026: early stopping\n",
            "Time spent for model training is 1.1 minutes\n"
          ],
          "name": "stdout"
        }
      ]
    },
    {
      "cell_type": "code",
      "metadata": {
        "id": "bNeMTt_JK5Xy",
        "colab_type": "code",
        "outputId": "a1ee73fd-a495-4806-8b0f-e9d674866ff9",
        "colab": {
          "base_uri": "https://localhost:8080/",
          "height": 185
        }
      },
      "source": [
        "# Validate if output makes sense\n",
        "yhat_val_ft = model_ft.predict(X_val_ft)\n",
        "print(yhat_val_ft[60:70])"
      ],
      "execution_count": 0,
      "outputs": [
        {
          "output_type": "stream",
          "text": [
            "[[0.       ]\n",
            " [0.       ]\n",
            " [0.       ]\n",
            " [0.       ]\n",
            " [0.8116775]\n",
            " [1.1200272]\n",
            " [1.0529778]\n",
            " [1.0466832]\n",
            " [0.8946785]\n",
            " [0.873783 ]]\n"
          ],
          "name": "stdout"
        }
      ]
    },
    {
      "cell_type": "code",
      "metadata": {
        "id": "DcNAaUAmLAFu",
        "colab_type": "code",
        "outputId": "b1470a4a-f702-48d4-cd03-64a8ac11db63",
        "colab": {
          "base_uri": "https://localhost:8080/",
          "height": 202
        }
      },
      "source": [
        "print(val_y_ft[60:70])"
      ],
      "execution_count": 0,
      "outputs": [
        {
          "output_type": "stream",
          "text": [
            "       ft_cases\n",
            "22243       0.0\n",
            "22244       0.0\n",
            "22245       0.0\n",
            "22246       1.0\n",
            "22247       1.0\n",
            "22248       1.0\n",
            "22249       1.0\n",
            "22250       1.0\n",
            "22251       1.0\n",
            "22252       1.0\n"
          ],
          "name": "stdout"
        }
      ]
    },
    {
      "cell_type": "code",
      "metadata": {
        "id": "ueZ8NFmBLHiq",
        "colab_type": "code",
        "colab": {}
      },
      "source": [
        ""
      ],
      "execution_count": 0,
      "outputs": []
    },
    {
      "cell_type": "markdown",
      "metadata": {
        "id": "ak-RhHlTLKZ7",
        "colab_type": "text"
      },
      "source": [
        "# Make Prediction"
      ]
    },
    {
      "cell_type": "code",
      "metadata": {
        "id": "7G_Irz_0LLif",
        "colab_type": "code",
        "outputId": "29c9e2c6-fc6f-40db-ae83-09fa08fc7a87",
        "colab": {
          "base_uri": "https://localhost:8080/",
          "height": 50
        }
      },
      "source": [
        "#TODO: takes 14m ish, consider multi-processing, multi-cores, run in GPU\n",
        "#TODO: create data_generate func\n",
        "start_time = time.time()\n",
        "test['Country_Region'] = test['Country_Region'].astype(str)\n",
        "test['Province_State'] = test['Province_State'].astype(str)\n",
        "country = test['Country_Region'].drop_duplicates()\n",
        "adj_input_cols = [e for e in input_cols if e not in ('province_encoder', 'country_encoder', 'date_int')]\n",
        "# fill data for overlapped days\n",
        "test_df = test.copy().join(pd.DataFrame(columns = adj_input_cols + output_cols))\n",
        "test_df['weekday'] = test_df['Date'].dt.weekday\n",
        "test_df.rename(columns={'Date': 'date', 'Country_Region': 'country', 'Province_State': 'province'}, inplace=True)\n",
        "lags = np.arange(1,8,1)  # lag of 1 to 7\n",
        "test_overlap_mask = (test_df['date'] <= train_df['date'].max())\n",
        "train_overlap_mask = (train_df['date'] >= test_df['date'].min())\n",
        "test_df.loc[test_overlap_mask, input_cols + output_cols] = train_df.loc[train_overlap_mask, input_cols + output_cols].values\n",
        "\n",
        "# predict data for forward days\n",
        "pred_dt_range = pd.date_range(start = train_df['date'].max() + pd.Timedelta(days=1), end = test_df['date'].max(), freq = '1D') # test_df['date'].max()\n",
        "with tqdm(total = len(pred_dt_range)) as pbar:\n",
        "    for d in pred_dt_range:\n",
        "        \n",
        "        for i in country:\n",
        "            \n",
        "            province = test_df[test_df['country'] == i]['province'].drop_duplicates()\n",
        "            \n",
        "            for j in province:\n",
        "                \n",
        "                mask = (test_df['date'] == d) & (test_df['country'] == i) & (test_df['province'] == j)\n",
        "                \n",
        "                \n",
        "                # update input features for the predicted day\n",
        "                for lag in lags:\n",
        "                    mask_org = (test_df['date'] == (d - pd.Timedelta(days=lag))) & (test_df['country'] == i) & (test_df['province'] == j)\n",
        "                    try:\n",
        "                        test_df.loc[mask, 'cc_cases_' + str(lag)] = test_df.loc[mask_org, 'cc_cases'].values\n",
        "                    except:\n",
        "                        test_df.loc[mask, 'cc_cases_' + str(lag)] = 0\n",
        "\n",
        "                    try:\n",
        "                        test_df.loc[mask, 'ft_cases_' + str(lag)] = test_df.loc[mask_org, 'ft_cases'].values\n",
        "                    except:\n",
        "                        test_df.loc[mask, 'ft_cases_' + str(lag)] = 0\n",
        "                \n",
        "                test_X  = test_df.loc[mask, input_cols]\n",
        "            \n",
        "                # predict for comfirmed cases\n",
        "                test_X_cc = test_X[cc_input]\n",
        "                X_test_cc= test_X_cc\n",
        "                # X_test_cc =  X_scaler_cc.transform(test_X_cc) # intput/output 2D array-like\n",
        "                # X_test_cc = X_test_cc.reshape(X_test_cc.shape[0], 1, X_test_cc.shape[1])\n",
        "                X_test_cc = X_test_cc.to_numpy().reshape(X_test_cc.shape[0], 1, X_test_cc.shape[1])\n",
        "                next_cc = model_cc.predict(X_test_cc)\n",
        "                # next_cc_scaled = y_scaler_cc.inverse_transform(next_cc)\n",
        "                next_cc_scaled = next_cc\n",
        "                \n",
        "                # predict for fatal cases\n",
        "                test_X_ft = test_X[ft_input]\n",
        "                X_test_ft = test_X_ft\n",
        "                # X_test_ft =  X_scaler_ft.transform(test_X_ft) # intput/output 2D array-like\n",
        "                # X_test_ft = X_test_ft.reshape(X_test_ft.shape[0], 1, X_test_ft.shape[1])\n",
        "                X_test_ft = X_test_ft.to_numpy().reshape(X_test_ft.shape[0], 1, X_test_ft.shape[1])\n",
        "                next_ft = model_cc.predict(X_test_ft)\n",
        "                # next_ft_scaled = y_scaler_cc.inverse_transform(next_ft)\n",
        "                next_ft_scaled = next_ft\n",
        "                # print(d, ' - ', i, ' - ', j,  ' - Predicted Confirmed Cases are ', next_cc_scaled, ' - Predicted Fatal Cases are ', next_ft_scaled)\n",
        "                \n",
        "                # update yhat for next day\n",
        "                test_df.loc[mask, 'cc_cases'] = next_cc_scaled\n",
        "                test_df.loc[mask, 'ft_cases'] = next_ft_scaled\n",
        "                        \n",
        "        pbar.update(1)\n",
        "        \n",
        "print('Time spent for building features is {} minutes'.format(round((time.time()-start_time)/60,1)))"
      ],
      "execution_count": 0,
      "outputs": [
        {
          "output_type": "stream",
          "text": [
            "100%|██████████| 31/31 [07:11<00:00, 13.91s/it]"
          ],
          "name": "stderr"
        },
        {
          "output_type": "stream",
          "text": [
            "Time spent for building features is 7.2 minutes\n"
          ],
          "name": "stdout"
        },
        {
          "output_type": "stream",
          "text": [
            "\n"
          ],
          "name": "stderr"
        }
      ]
    },
    {
      "cell_type": "code",
      "metadata": {
        "id": "IggJhSzrkUB-",
        "colab_type": "code",
        "colab": {}
      },
      "source": [
        "test_df.to_csv(Path('/content/drive/My Drive/Colab Notebooks/kaggle/covid19_3/', 'test_df.csv'))"
      ],
      "execution_count": 0,
      "outputs": []
    },
    {
      "cell_type": "code",
      "metadata": {
        "id": "EIkCuc-iLVMU",
        "colab_type": "code",
        "outputId": "6bf7e367-3eb3-4de7-cb8e-e6ccaabd65bc",
        "colab": {
          "base_uri": "https://localhost:8080/",
          "height": 639
        }
      },
      "source": [
        "submission = pd.DataFrame()\n",
        "submission['ForecastId'] = test_df['ForecastId']\n",
        "submission['ConfirmedCases'] = test_df['cc_cases']\n",
        "submission['Fatalities'] = test_df['ft_cases']\n",
        "\n",
        "submission.to_csv(\"submission_01.csv\",index=False)\n",
        "submission[:20]"
      ],
      "execution_count": 0,
      "outputs": [
        {
          "output_type": "execute_result",
          "data": {
            "text/html": [
              "<div>\n",
              "<style scoped>\n",
              "    .dataframe tbody tr th:only-of-type {\n",
              "        vertical-align: middle;\n",
              "    }\n",
              "\n",
              "    .dataframe tbody tr th {\n",
              "        vertical-align: top;\n",
              "    }\n",
              "\n",
              "    .dataframe thead th {\n",
              "        text-align: right;\n",
              "    }\n",
              "</style>\n",
              "<table border=\"1\" class=\"dataframe\">\n",
              "  <thead>\n",
              "    <tr style=\"text-align: right;\">\n",
              "      <th></th>\n",
              "      <th>ForecastId</th>\n",
              "      <th>ConfirmedCases</th>\n",
              "      <th>Fatalities</th>\n",
              "    </tr>\n",
              "  </thead>\n",
              "  <tbody>\n",
              "    <tr>\n",
              "      <th>0</th>\n",
              "      <td>1</td>\n",
              "      <td>94</td>\n",
              "      <td>4</td>\n",
              "    </tr>\n",
              "    <tr>\n",
              "      <th>1</th>\n",
              "      <td>2</td>\n",
              "      <td>110</td>\n",
              "      <td>4</td>\n",
              "    </tr>\n",
              "    <tr>\n",
              "      <th>2</th>\n",
              "      <td>3</td>\n",
              "      <td>110</td>\n",
              "      <td>4</td>\n",
              "    </tr>\n",
              "    <tr>\n",
              "      <th>3</th>\n",
              "      <td>4</td>\n",
              "      <td>120</td>\n",
              "      <td>4</td>\n",
              "    </tr>\n",
              "    <tr>\n",
              "      <th>4</th>\n",
              "      <td>5</td>\n",
              "      <td>170</td>\n",
              "      <td>4</td>\n",
              "    </tr>\n",
              "    <tr>\n",
              "      <th>5</th>\n",
              "      <td>6</td>\n",
              "      <td>174</td>\n",
              "      <td>4</td>\n",
              "    </tr>\n",
              "    <tr>\n",
              "      <th>6</th>\n",
              "      <td>7</td>\n",
              "      <td>237</td>\n",
              "      <td>4</td>\n",
              "    </tr>\n",
              "    <tr>\n",
              "      <th>7</th>\n",
              "      <td>8</td>\n",
              "      <td>273</td>\n",
              "      <td>6</td>\n",
              "    </tr>\n",
              "    <tr>\n",
              "      <th>8</th>\n",
              "      <td>9</td>\n",
              "      <td>281</td>\n",
              "      <td>6</td>\n",
              "    </tr>\n",
              "    <tr>\n",
              "      <th>9</th>\n",
              "      <td>10</td>\n",
              "      <td>299</td>\n",
              "      <td>7</td>\n",
              "    </tr>\n",
              "    <tr>\n",
              "      <th>10</th>\n",
              "      <td>11</td>\n",
              "      <td>349</td>\n",
              "      <td>7</td>\n",
              "    </tr>\n",
              "    <tr>\n",
              "      <th>11</th>\n",
              "      <td>12</td>\n",
              "      <td>367</td>\n",
              "      <td>11</td>\n",
              "    </tr>\n",
              "    <tr>\n",
              "      <th>12</th>\n",
              "      <td>13</td>\n",
              "      <td>415.677</td>\n",
              "      <td>12.2316</td>\n",
              "    </tr>\n",
              "    <tr>\n",
              "      <th>13</th>\n",
              "      <td>14</td>\n",
              "      <td>461.194</td>\n",
              "      <td>14.5584</td>\n",
              "    </tr>\n",
              "    <tr>\n",
              "      <th>14</th>\n",
              "      <td>15</td>\n",
              "      <td>513.869</td>\n",
              "      <td>16.7227</td>\n",
              "    </tr>\n",
              "    <tr>\n",
              "      <th>15</th>\n",
              "      <td>16</td>\n",
              "      <td>573.481</td>\n",
              "      <td>19.6658</td>\n",
              "    </tr>\n",
              "    <tr>\n",
              "      <th>16</th>\n",
              "      <td>17</td>\n",
              "      <td>646.76</td>\n",
              "      <td>22.6266</td>\n",
              "    </tr>\n",
              "    <tr>\n",
              "      <th>17</th>\n",
              "      <td>18</td>\n",
              "      <td>725.191</td>\n",
              "      <td>26.5239</td>\n",
              "    </tr>\n",
              "    <tr>\n",
              "      <th>18</th>\n",
              "      <td>19</td>\n",
              "      <td>819.738</td>\n",
              "      <td>30.4328</td>\n",
              "    </tr>\n",
              "    <tr>\n",
              "      <th>19</th>\n",
              "      <td>20</td>\n",
              "      <td>926.248</td>\n",
              "      <td>35.1368</td>\n",
              "    </tr>\n",
              "  </tbody>\n",
              "</table>\n",
              "</div>"
            ],
            "text/plain": [
              "    ForecastId ConfirmedCases Fatalities\n",
              "0            1             94          4\n",
              "1            2            110          4\n",
              "2            3            110          4\n",
              "3            4            120          4\n",
              "4            5            170          4\n",
              "5            6            174          4\n",
              "6            7            237          4\n",
              "7            8            273          6\n",
              "8            9            281          6\n",
              "9           10            299          7\n",
              "10          11            349          7\n",
              "11          12            367         11\n",
              "12          13        415.677    12.2316\n",
              "13          14        461.194    14.5584\n",
              "14          15        513.869    16.7227\n",
              "15          16        573.481    19.6658\n",
              "16          17         646.76    22.6266\n",
              "17          18        725.191    26.5239\n",
              "18          19        819.738    30.4328\n",
              "19          20        926.248    35.1368"
            ]
          },
          "metadata": {
            "tags": []
          },
          "execution_count": 79
        }
      ]
    },
    {
      "cell_type": "code",
      "metadata": {
        "id": "kmB3OvJTNe5O",
        "colab_type": "code",
        "colab": {}
      },
      "source": [
        "sub = pd.read_csv('../input/sub/submission_01.csv')\n",
        "sub.to_csv('submission001.csv', index =False)\n"
      ],
      "execution_count": 0,
      "outputs": []
    }
  ]
}